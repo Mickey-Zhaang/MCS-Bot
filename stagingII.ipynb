{
 "cells": [
  {
   "cell_type": "markdown",
   "id": "87a83cee",
   "metadata": {},
   "source": [
    "# CRISP API"
   ]
  },
  {
   "cell_type": "code",
   "execution_count": 13,
   "id": "0cb96432",
   "metadata": {},
   "outputs": [
    {
     "name": "stdout",
     "output_type": "stream",
     "text": [
      " * Serving Flask app '__main__'\n",
      " * Debug mode: off\n"
     ]
    },
    {
     "name": "stderr",
     "output_type": "stream",
     "text": [
      "WARNING: This is a development server. Do not use it in a production deployment. Use a production WSGI server instead.\n",
      " * Running on all addresses (0.0.0.0)\n",
      " * Running on http://127.0.0.1:5000\n",
      " * Running on http://10.33.96.46:5000\n",
      "Press CTRL+C to quit\n",
      "127.0.0.1 - - [09/Jun/2025 12:06:06] \"GET / HTTP/1.1\" 200 -\n",
      "127.0.0.1 - - [09/Jun/2025 12:06:06] \"GET /favicon.ico HTTP/1.1\" 404 -\n",
      "127.0.0.1 - - [09/Jun/2025 12:07:15] \"GET /crisp/hooks HTTP/1.1\" 405 -\n"
     ]
    }
   ],
   "source": [
    "import os\n",
    "from flask import Flask, request, abort, jsonify\n",
    "from dotenv import load_dotenv\n",
    "\n",
    "load_dotenv()\n",
    "\n",
    "app = Flask(__name__)\n",
    "\n",
    "HOOK_SECRET = \"secret\"\n",
    "\n",
    "@app.route(\"/\")\n",
    "def index():\n",
    "    return f\"I'm running index!\"\n",
    "\n",
    "\n",
    "@app.route(\"/crisp/hooks\", methods=[\"POST\"])\n",
    "def crisp_webhook():\n",
    "    key = request.args.get(\"key\", \"\")\n",
    "    if key != HOOK_SECRET:\n",
    "        abort(403, description=\"Invalid hook key\")\n",
    "\n",
    "    payload = request.get_json(force=True)\n",
    "    print(payload)\n",
    "\n",
    "    return jsonify({\"status\": \"ok\"}), 200\n",
    "\n",
    "if __name__ == \"__main__\":\n",
    "    port = int(os.environ.get(\"PORT\", 5000))\n",
    "    app.run(host=\"0.0.0.0\", port=port)\n"
   ]
  },
  {
   "cell_type": "markdown",
   "id": "5ba38eb4",
   "metadata": {},
   "source": [
    "### the lt port is convenient for live testing, worst case I cURL with local host"
   ]
  },
  {
   "cell_type": "code",
   "execution_count": null,
   "id": "6b805189",
   "metadata": {},
   "outputs": [],
   "source": [
    "! lt --port 5000"
   ]
  },
  {
   "cell_type": "code",
   "execution_count": null,
   "id": "99d8e451",
   "metadata": {},
   "outputs": [],
   "source": [
    "# cURL the local host\n",
    "curl -X POST \"http://localhost:5000/crisp/hooks?key=secret\" \\\n",
    "  -H \"Content-Type: application/json\" \\\n",
    "  -d '{\n",
    "        \"website_id\":\"test-site\",\n",
    "        \"event\":\"message:send\",\n",
    "        \"data\":{\"content\":\"Hello local!\",\"from\":\"user\"},\n",
    "        \"timestamp\":1234567890\n",
    "      }'"
   ]
  },
  {
   "cell_type": "code",
   "execution_count": null,
   "id": "b508d36f",
   "metadata": {},
   "outputs": [],
   "source": []
  }
 ],
 "metadata": {
  "kernelspec": {
   "display_name": "Python 3",
   "language": "python",
   "name": "python3"
  },
  "language_info": {
   "codemirror_mode": {
    "name": "ipython",
    "version": 3
   },
   "file_extension": ".py",
   "mimetype": "text/x-python",
   "name": "python",
   "nbconvert_exporter": "python",
   "pygments_lexer": "ipython3",
   "version": "3.11.9"
  }
 },
 "nbformat": 4,
 "nbformat_minor": 5
}
