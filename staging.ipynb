{
 "cells": [
  {
   "cell_type": "markdown",
   "id": "a306d7af",
   "metadata": {},
   "source": [
    "# Staging OpenAI API\n"
   ]
  },
  {
   "cell_type": "code",
   "execution_count": 1,
   "id": "851ff749",
   "metadata": {},
   "outputs": [],
   "source": [
    "from openai import OpenAI\n",
    "from dotenv import load_dotenv\n",
    "import os\n",
    "\n",
    "load_dotenv()\n",
    "\n",
    "api_key = os.getenv(\"OPENAI_API_KEY\")\n",
    "\n",
    "client = OpenAI(api_key=api_key)"
   ]
  },
  {
   "cell_type": "code",
   "execution_count": 2,
   "id": "c16aa4f2",
   "metadata": {},
   "outputs": [
    {
     "name": "stdout",
     "output_type": "stream",
     "text": [
      "For your trip to Tokyo, I recommend visiting the iconic Shibuya Crossing. It's one of the busiest pedestrian intersections in the world and offers a vibrant atmosphere that embodies the spirit of Tokyo. You can explore the surrounding area, check out the Hachiko statue, and enjoy shopping at nearby stores or grab a meal at one of the many restaurants. Be sure to experience the view from a nearby café or the Shibuya Sky observation deck for a breathtaking perspective of the city!\n"
     ]
    }
   ],
   "source": [
    "user_input = \"Hello, suggest a trip plan in Tokyo\"\n",
    "\n",
    "messages = [\n",
    "    {\"role\": \"system\", \"content\": \"Only suggest 1 activity for the trip plane\"},\n",
    "    {\"role\": \"user\", \"content\": user_input},\n",
    "]\n",
    "\n",
    "completion = client.chat.completions.create(model=\"gpt-4o-mini\", messages=messages)\n",
    "re_json = completion.choices[0].message.content\n",
    "print(re_json)"
   ]
  },
  {
   "cell_type": "markdown",
   "id": "8570d1c6",
   "metadata": {},
   "source": [
    "# GMAIL ROUTE\n"
   ]
  },
  {
   "cell_type": "code",
   "execution_count": 39,
   "id": "89c957bb",
   "metadata": {},
   "outputs": [],
   "source": [
    "import base64\n",
    "\n",
    "\n",
    "# GPT written, just decodes gmail body content data\n",
    "def decode_base64_data(data_str):\n",
    "    missing_padding = len(data_str) % 4\n",
    "    if missing_padding:\n",
    "        data_str += \"=\" * (4 - missing_padding)\n",
    "    decoded_bytes = base64.urlsafe_b64decode(data_str.encode(\"utf-8\"))\n",
    "    return decoded_bytes.decode(\"utf-8\", errors=\"replace\")\n",
    "\n",
    "\n",
    "import os.path\n",
    "from google.auth.transport.requests import Request\n",
    "from google.oauth2.credentials import Credentials\n",
    "from google_auth_oauthlib.flow import InstalledAppFlow\n",
    "from googleapiclient.discovery import build\n",
    "\n",
    "\n",
    "def get_credentials(token_path=\"token.json\", scopes=None):\n",
    "    \"\"\"\n",
    "    Gets credentials from user\n",
    "    Args:\n",
    "        token_path: (str) the token.json file unique to local users\n",
    "        scopes: (str) sets scope for get_credentials\n",
    "    \"\"\"\n",
    "    if scopes is None:\n",
    "        scopes = [\"https://www.googleapis.com/auth/gmail.readonly\"]\n",
    "    creds = None\n",
    "    if os.path.exists(token_path):\n",
    "        creds = Credentials.from_authorized_user_file(token_path, scopes)\n",
    "    if not creds or not creds.valid:\n",
    "        if creds and creds.expired and creds.refresh_token:\n",
    "            creds.refresh(Request())\n",
    "        else:\n",
    "            client_config = {\n",
    "                \"installed\": {\n",
    "                    \"client_id\": os.environ.get(\"GOOGLE_CLIENT_ID_DESK\"),\n",
    "                    \"client_secret\": os.environ.get(\"GOOGLE_CLIENT_SECRET_DESK\"),\n",
    "                    \"auth_uri\": \"https://accounts.google.com/o/oauth2/auth\",\n",
    "                    \"token_uri\": \"https://oauth2.googleapis.com/token\",\n",
    "                }\n",
    "            }\n",
    "            flow = InstalledAppFlow.from_client_config(client_config, scopes)\n",
    "            creds = flow.run_local_server(port=0)\n",
    "        with open(token_path, \"w\") as token_file:\n",
    "            token_file.write(creds.to_json())\n",
    "    return creds\n",
    "\n",
    "\n",
    "def build_gmail_service(creds):\n",
    "    return build(\"gmail\", \"v1\", credentials=creds)"
   ]
  },
  {
   "cell_type": "code",
   "execution_count": 58,
   "id": "2216a25f",
   "metadata": {},
   "outputs": [],
   "source": [
    "# gets credentials\n",
    "creds = get_credentials()\n",
    "\n",
    "# build the gmail service\n",
    "service = build_gmail_service(creds)\n",
    "\n",
    "# Id's for messages\n",
    "results = (\n",
    "    service.users().messages().list(userId=\"me\", q=\"is:unread\").execute()[\"messages\"]\n",
    ")\n",
    "\n",
    "# using getting the top 10 messages\n",
    "top_k_messages = results[:10] if len(results) > 10 else results\n",
    "\n",
    "# getting the each message with ids\n",
    "message_ids = [message.get(\"id\") for message in top_k_messages]\n",
    "\n",
    "# getting the resulting messages\n",
    "res_messages = [\n",
    "    service.users()\n",
    "    .messages()\n",
    "    .get(userId=\"me\", id=id, format=\"full\")\n",
    "    .execute()\n",
    "    .get(\"payload\")\n",
    "    for id in message_ids\n",
    "]"
   ]
  },
  {
   "cell_type": "markdown",
   "id": "b957a432",
   "metadata": {},
   "source": [
    "## Overview of return object from GMAIL API\n",
    "\n",
    "How to navigate this json object\n"
   ]
  },
  {
   "cell_type": "code",
   "execution_count": 59,
   "id": "361abf46",
   "metadata": {},
   "outputs": [
    {
     "name": "stdout",
     "output_type": "stream",
     "text": [
      "{'body': {'size': 0},\n",
      " 'filename': '',\n",
      " 'headers': [{'name': 'Delivered-To', 'value': 'contact@vizcom.co'},\n",
      "             {'name': 'Received',\n",
      "              'value': 'by 2002:a05:7022:4199:b0:9a:c19:4c0e with SMTP id '\n",
      "                       'i25csp4903024dli;        Tue, 27 May 2025 11:39:08 '\n",
      "                       '-0700 (PDT)'},\n",
      "             {'name': 'X-Received',\n",
      "              'value': 'by 2002:a05:6e02:2482:b0:3d3:db70:b585 with SMTP id '\n",
      "                       'e9e14a558f8ab-3dc9b72443emr160912575ab.21.1748371148703;        '\n",
      "                       'Tue, 27 May 2025 11:39:08 -0700 (PDT)'},\n",
      "             {'name': 'ARC-Seal',\n",
      "              'value': 'i=1; a=rsa-sha256; t=1748371148; cv=none;        '\n",
      "                       'd=google.com; s=arc-20240605;        '\n",
      "                       'b=isynD+b6SuUAWfDbkolPg0eyOZRvXQKM5qggr55/5pBe4lK3FavGBfPrtbaI73687r         '\n",
      "                       'xX5YUNJR4LflVygWUr5JcRZ2D8RmNqQ0Sx3q1PRAghsqLU7NVfHU9Bg/ElH09Av98I1l         '\n",
      "                       'CBI3vQWAH9//saz6Ulcwpht6YT6+1FMNHqrStJMcD1qRjq6kqsQ9p/G/w7euuPXaazE0         '\n",
      "                       'imyatxQUkN/6IUf5+w8BleTfHujxLNRFquprgyMKp07LQs8gv9QRVH/rw9trSnFU852L         '\n",
      "                       'q3t2rbeCWoP6xGv7GiZqbbsXBz3BGg1tg1iuPhecH/0v+s9NtLLp4TKNPS+RjCc7EOdG         '\n",
      "                       '6M9Q=='},\n",
      "             {'name': 'ARC-Message-Signature',\n",
      "              'value': 'i=1; a=rsa-sha256; c=relaxed/relaxed; d=google.com; '\n",
      "                       's=arc-20240605;        '\n",
      "                       'h=to:subject:message-id:date:from:mime-version:dkim-signature;        '\n",
      "                       'bh=5ROLsAHqpiYBhgkERor33i3erQ+gIyDXfAKvuqXWzGo=;        '\n",
      "                       'fh=rYXsSsajcHZIZQc+se9690qOvdTzieJ7Wno/FDXhRQs=;        '\n",
      "                       'b=f2mYBv9WuQ7doeXpXtXKnS84iIsEnjTInMGpWotXG+Zu5dil9l4QEgUyD7D0jBtVXU         '\n",
      "                       'zCSTz2CmkLW0JrYz3Ege1yQTMI0Jacv6YMvpP6q5MEYM8b1STrRSWLBuL+vEEqN7SgVY         '\n",
      "                       'o5+drR6el73bSHkFcgY/MAZ4ZIOGgmGxtG7ncaP8pXiAsDmx/p44qlHFAoB9yHcv/U0A         '\n",
      "                       'ksfrm9+LVUfUmz9nqnjxtdTGoBaH1odpLIMAEBeGrYJFG3fDSCg7FkEbyrGsQ3bRDOg7         '\n",
      "                       'irNIbIowEUZkkUkrtOJHg6Z98edSPe5otHEnLUy/s2Zs0Ci2RL8yEKU5Hh2CdPjFD3W+         '\n",
      "                       'gw7w==;        dara=google.com'},\n",
      "             {'name': 'ARC-Authentication-Results',\n",
      "              'value': 'i=1; mx.google.com;       dkim=pass '\n",
      "                       'header.i=@optimistinc.com header.s=google '\n",
      "                       'header.b=Zku2mfUs;       spf=pass (google.com: domain '\n",
      "                       'of dalvarez@optimistinc.com designates 209.85.220.41 '\n",
      "                       'as permitted sender) '\n",
      "                       'smtp.mailfrom=dalvarez@optimistinc.com;       '\n",
      "                       'dmarc=pass (p=NONE sp=NONE dis=NONE) '\n",
      "                       'header.from=optimistinc.com;       dara=pass '\n",
      "                       'header.i=@vizcom.co'},\n",
      "             {'name': 'Return-Path', 'value': '<dalvarez@optimistinc.com>'},\n",
      "             {'name': 'Received',\n",
      "              'value': 'from mail-sor-f41.google.com (mail-sor-f41.google.com. '\n",
      "                       '[209.85.220.41])        by mx.google.com with SMTPS id '\n",
      "                       'e9e14a558f8ab-3dc77548c8fsor35960055ab.9.2025.05.27.11.39.08        '\n",
      "                       'for <contact@vizcom.co>        (Google Transport '\n",
      "                       'Security);        Tue, 27 May 2025 11:39:08 -0700 '\n",
      "                       '(PDT)'},\n",
      "             {'name': 'Received-SPF',\n",
      "              'value': 'pass (google.com: domain of dalvarez@optimistinc.com '\n",
      "                       'designates 209.85.220.41 as permitted sender) '\n",
      "                       'client-ip=209.85.220.41;'},\n",
      "             {'name': 'Authentication-Results',\n",
      "              'value': 'mx.google.com;       dkim=pass '\n",
      "                       'header.i=@optimistinc.com header.s=google '\n",
      "                       'header.b=Zku2mfUs;       spf=pass (google.com: domain '\n",
      "                       'of dalvarez@optimistinc.com designates 209.85.220.41 '\n",
      "                       'as permitted sender) '\n",
      "                       'smtp.mailfrom=dalvarez@optimistinc.com;       '\n",
      "                       'dmarc=pass (p=NONE sp=NONE dis=NONE) '\n",
      "                       'header.from=optimistinc.com;       dara=pass '\n",
      "                       'header.i=@vizcom.co'},\n",
      "             {'name': 'DKIM-Signature',\n",
      "              'value': 'v=1; a=rsa-sha256; c=relaxed/relaxed;        '\n",
      "                       'd=optimistinc.com; s=google; t=1748371148; '\n",
      "                       'x=1748975948; darn=vizcom.co;        '\n",
      "                       'h=to:subject:message-id:date:from:mime-version:from:to:cc:subject         '\n",
      "                       ':date:message-id:reply-to;        '\n",
      "                       'bh=5ROLsAHqpiYBhgkERor33i3erQ+gIyDXfAKvuqXWzGo=;        '\n",
      "                       'b=Zku2mfUsvw6BpNpINeo2/TO++X4kcSfP1O8bD141d3XBdKf7VSAIPt8RQNLuE46bsM         '\n",
      "                       'd3232f1CrHXmTV5rZROcSJ99UIzAeZ/vA3tx0u5NJAH+i5QA8ulTHZyHGa5xPP1h7eIm         '\n",
      "                       'uopHS3dWPMjsDGa9D9Zeih5KtvWRD5/oxpKsA='},\n",
      "             {'name': 'X-Google-DKIM-Signature',\n",
      "              'value': 'v=1; a=rsa-sha256; c=relaxed/relaxed;        '\n",
      "                       'd=1e100.net; s=20230601; t=1748371148; '\n",
      "                       'x=1748975948;        '\n",
      "                       'h=to:subject:message-id:date:from:mime-version:x-gm-message-state         '\n",
      "                       ':from:to:cc:subject:date:message-id:reply-to;        '\n",
      "                       'bh=5ROLsAHqpiYBhgkERor33i3erQ+gIyDXfAKvuqXWzGo=;        '\n",
      "                       'b=oWuzIZnV1keU5gQiJbDdqjztebV763RQQB9XT49+g/+T3zInZAwx4hmXDM48RR2XTO         '\n",
      "                       'pD/p/v2X1icm75uC4yZuYXKWQridXl8MxUFZ9pC6LrtOSwNQtunDycouAujw3JisZV36         '\n",
      "                       'Gg1yU+9w8Dn5tU2oBOkfhHeOAapCFA7VGFPVDL9Xj35QTC9lauUdh5ORKsoU0c28XIHR         '\n",
      "                       'KeytdPX/mgBEeWlWZ23jhVw5OBkCJjpNl6AfDd2iImT3xPN5ePIwBrxrm/nqj8GkIz+C         '\n",
      "                       'XAE6imJ8JoAz3lid2fXNDXm1/89akeualUBMy35YW3LNB9FA9Rj9+0gACm0xL8WZmWup         '\n",
      "                       '+wMA=='},\n",
      "             {'name': 'X-Gm-Message-State',\n",
      "              'value': 'AOJu0Yzw3JYG3MW3xjz0+VF3W8q7LYgJh2yJJKlJNy4mLrD6wpPUeEu/ '\n",
      "                       'vp/QNfRNPyjUv1KSUmMFiK6GMA8f8Vpw2ilQuTpUG4mOP2Z+lmlioz7UwxQOKmqbYMYipddh1NC '\n",
      "                       'YE2YotrIEA2Ir7Af0JMkluNe3oFrgMXiof+NZkOjQBo9ZHs567wbf'},\n",
      "             {'name': 'X-Gm-Gg',\n",
      "              'value': 'ASbGnctKAIX1MnNsKOQoQZmYW9QOrQvzrS3IDbA8tx1dftFaWovVMbpqq7+ZCDPXyzW '\n",
      "                       'd4PoCrUpP3kt6K5CeJsDJHtBHKMjQcd+vbj1uLbT1q7KifalgT6SpZncEWvkiIXKpXlFJauHZdF '\n",
      "                       'nvNyXNbcV/OKX337Id45J6fb2OkVf8DHgDVw=='},\n",
      "             {'name': 'X-Google-Smtp-Source',\n",
      "              'value': 'AGHT+IH4vhMTfHp+WY5EpaNvFRdxN82+hWNEHBPJGGf5HIcKxpbVEFQ0p+DQiLM2TK0xDfh6Wv5eiX1THuLnDnb8vtU='},\n",
      "             {'name': 'X-Received',\n",
      "              'value': 'by 2002:a05:6e02:3183:b0:3dc:787f:2bc4 with SMTP id '\n",
      "                       'e9e14a558f8ab-3dc9b70fff5mr169169115ab.18.1748371148075; '\n",
      "                       'Tue, 27 May 2025 11:39:08 -0700 (PDT)'},\n",
      "             {'name': 'MIME-Version', 'value': '1.0'},\n",
      "             {'name': 'From',\n",
      "              'value': 'David Alvarez <dalvarez@optimistinc.com>'},\n",
      "             {'name': 'Date', 'value': 'Tue, 27 May 2025 11:38:56 -0700'},\n",
      "             {'name': 'X-Gm-Features',\n",
      "              'value': 'AX0GCFvUkmi9xKu_5FpsvT5_sRuiVxl0YgEDh8kJqK-isj8WMM1w4V-Ooh2xHe8'},\n",
      "             {'name': 'Message-ID',\n",
      "              'value': '<CACVNDaFrL1dqgOx7u2ef8oGDYOV9tSOG-rsHDMqU8WbtUNj-cA@mail.gmail.com>'},\n",
      "             {'name': 'Subject', 'value': 'Onboarding'},\n",
      "             {'name': 'To', 'value': 'contact@vizcom.co'},\n",
      "             {'name': 'Content-Type',\n",
      "              'value': 'multipart/alternative; '\n",
      "                       'boundary=\"000000000000378d480636226111\"'}],\n",
      " 'mimeType': 'multipart/alternative',\n",
      " 'partId': '',\n",
      " 'parts': [{'body': {'data': 'SGkgVml6Y29tIHRlYW0sDQoNCkZpcnN0IG9mZiwgY29uZ3JhdHMgb24geW91ciBzb2Z0d2FyZS4gSSB0aGluayB5b3UgZ3V5cyBoYXZlIHNvbWV0aGluZw0Kc3BlY2lhbCBoZXJlLi4uIQ0KDQpJIGFtIHJlYWNoaW5nIG91dCBiZWNhdXNlIEkgaGF2ZSBiZWVuIHRyeWluZyB0byBpbmNvcnBvcmF0ZSB0aGUgc29mdHdhcmUNCmludG8gb3VyIHdvcmtmbG93IGJ1dCBJIGFtIGhhdmluZyB0cm91YmxlIHNoZXBoZXJkaW5nIHVzYWJsZSByZXN1bHRzLg0KDQpJIGhhdmUgd2F0Y2hlZCBhIHNlcmllcyBvZiB0dXRvcmlhbHMgYW5kIHRoZSBvdXRwdXQgbG9va3MgdmVyeSBwcm9taXNpbmcuIEkNCnRoaW5rIEkganVzdCBtaWdodCBiZSBtaXNzaW5nIHNvbWV0aGluZyBiZWNhdXNlIGRlc3BpdGUgYWxsIHRoZSBjcmVhdGl2ZQ0KaW5wdXRzIHlvdSBndXlzIGhhdmUgaW5jb3Jwb3JhdGVkIHN1Y2ggYXMgcGFsZXR0ZXMsIHRhaWxvcmVkIGxhc3NvIHByb21wdHMNCmV0YyBJIGNvbnRpbnVlIHRvIHN0cnVnZ2xlIGdldHRpbmcgZ29vZCByZXN1bHRzLg0KDQpNeSB3b3JrZmxvdyB0eXBpY2FsbHkgc3RhcnRzIHdpdGggc2tldGNoaW5nIGZyZWVoYW5kIGFuZCBmcm9tIHRoZSB0dXRvcmlhbHMNCnRoaXMgc2VlbXMgdG8gYmUgdGhlIGRlc2lnbmVkIHdvcmtmbG93IGJ1dCB3YW50ZWQgdG8ga25vdyBpZiBpdCdzIG1heWJlIG15DQpza2V0Y2ggc3R5bGUgdGhhdCdzIGRlcmFpbGluZyB0aGUgcHJvY2Vzcz8NCg0KSW4gYW55IGNhc2UsIEkgc2F3IHRoYXQgd2l0aCBzb21lIG1lbWJlcnNoaXBzIHlvdSBub3RlIG9uYm9hcmRpbmcgc28NCnRob3VnaHQgSSB3b3VsZCBjaGVjayBpbiB0byBzZWUgaWYgYW55IGd1aWRhbmNlIHdhcyBwb3NzaWJsZS4NCg0KVGhhbmsgeW91LA0KREENCg==',\n",
      "                     'size': 886},\n",
      "            'filename': '',\n",
      "            'headers': [{'name': 'Content-Type',\n",
      "                         'value': 'text/plain; charset=\"UTF-8\"'}],\n",
      "            'mimeType': 'text/plain',\n",
      "            'partId': '0'},\n",
      "           {'body': {'data': 'PGRpdiBkaXI9Imx0ciI-SGkgVml6Y29tIHRlYW0sPGRpdj48YnI-PC9kaXY-PGRpdj5GaXJzdCBvZmYsIGNvbmdyYXRzIG9uIHlvdXIgc29mdHdhcmUuIEkgdGhpbmsgeW91IGd1eXMgaGF2ZSBzb21ldGhpbmcgc3BlY2lhbCBoZXJlLi4uITwvZGl2PjxkaXY-PGJyPjwvZGl2PjxkaXY-SSBhbSByZWFjaGluZyBvdXQgYmVjYXVzZSBJIGhhdmUgYmVlbiB0cnlpbmcgdG8gaW5jb3Jwb3JhdGUgdGhlIHNvZnR3YXJlIGludG8gb3VyIHdvcmtmbG93IGJ1dCBJIGFtIGhhdmluZyB0cm91YmxlIHNoZXBoZXJkaW5nIHVzYWJsZSByZXN1bHRzLsKgPC9kaXY-PGRpdj48YnI-PC9kaXY-PGRpdj5JIGhhdmUgd2F0Y2hlZCBhIHNlcmllcyBvZiB0dXRvcmlhbHMgYW5kIHRoZSBvdXRwdXTCoGxvb2tzIHZlcnkgcHJvbWlzaW5nLiBJIHRoaW5rIEkganVzdCBtaWdodCBiZSBtaXNzaW5nIHNvbWV0aGluZ8KgYmVjYXVzZSBkZXNwaXRlwqBhbGwgdGhlIGNyZWF0aXZlIGlucHV0c8KgeW91IGd1eXMgaGF2ZSBpbmNvcnBvcmF0ZWQgc3VjaCBhcyBwYWxldHRlcywgdGFpbG9yZWQgbGFzc28gcHJvbXB0cyBldGMgSSBjb250aW51ZcKgdG8gc3RydWdnbGXCoGdldHRpbmcgZ29vZCByZXN1bHRzLjwvZGl2PjxkaXY-PGJyPjwvZGl2PjxkaXY-TXkgd29ya2Zsb3cgdHlwaWNhbGx5IHN0YXJ0c8Kgd2l0aCBza2V0Y2hpbmcgZnJlZWhhbmQgYW5kIGZyb20gdGhlIHR1dG9yaWFscyB0aGlzIHNlZW1zIHRvIGJlIHRoZSBkZXNpZ25lZCB3b3JrZmxvdyBidXQgd2FudGVkIHRvIGtub3cgaWYgaXQmIzM5O3MgbWF5YmUgbXkgc2tldGNoIHN0eWxlIHRoYXQmIzM5O3MgZGVyYWlsaW5nIHRoZSBwcm9jZXNzPzwvZGl2PjxkaXY-PGJyPjwvZGl2PjxkaXY-SW4gYW55IGNhc2UsIEkgc2F3IHRoYXQgd2l0aCBzb21lIG1lbWJlcnNoaXBzIHlvdSBub3RlIG9uYm9hcmRpbmcgc28gdGhvdWdodCBJIHdvdWxkIGNoZWNrIGluIHRvIHNlZSBpZiBhbnkgZ3VpZGFuY2Ugd2FzIHBvc3NpYmxlLsKgPC9kaXY-PGRpdj48YnI-PC9kaXY-PGRpdj5UaGFuayB5b3UsPC9kaXY-PGRpdj5EQcKgPC9kaXY-PC9kaXY-DQo=',\n",
      "                     'size': 1061},\n",
      "            'filename': '',\n",
      "            'headers': [{'name': 'Content-Type',\n",
      "                         'value': 'text/html; charset=\"UTF-8\"'},\n",
      "                        {'name': 'Content-Transfer-Encoding',\n",
      "                         'value': 'quoted-printable'}],\n",
      "            'mimeType': 'text/html',\n",
      "            'partId': '1'}]}\n"
     ]
    }
   ],
   "source": [
    "from pprint import pprint\n",
    "\n",
    "pprint(res_messages[0])"
   ]
  },
  {
   "cell_type": "markdown",
   "id": "d7ba965c",
   "metadata": {},
   "source": [
    "## Retrieving Vital Information\n"
   ]
  },
  {
   "cell_type": "code",
   "execution_count": 78,
   "id": "25e78edd",
   "metadata": {},
   "outputs": [],
   "source": [
    "# getting subject and subject\n",
    "sender, subject = \"\", \"\"\n",
    "\n",
    "for header in res_messages[0][\"headers\"]:\n",
    "    if header[\"name\"] == \"Subject\":\n",
    "        subject = header.get(\"value\")\n",
    "    elif header[\"name\"] == \"From\":\n",
    "        sender = header.get(\"value\")\n",
    "\n",
    "# getting\n",
    "data = res_messages[0][\"parts\"][0][\"body\"][\"data\"]"
   ]
  },
  {
   "cell_type": "markdown",
   "id": "46460c8d",
   "metadata": {},
   "source": [
    "### Normalizing Data\n"
   ]
  },
  {
   "cell_type": "code",
   "execution_count": 79,
   "id": "be02807d",
   "metadata": {},
   "outputs": [
    {
     "name": "stdout",
     "output_type": "stream",
     "text": [
      "NormData(\n",
      "  id: 1\n",
      "  sender: David Alvarez <dalvarez@optimistinc.com>\n",
      "  subject: Onboarding\n",
      "  origin: gmail\n",
      "  body: Hi Vizcom team,\n",
      "\n",
      "First off, congrats on your software. I think you guys have something\n",
      "special here...!\n",
      "\n",
      "I am reaching out because I have been trying to incorporate the software\n",
      "into our workflow but I am having trouble shepherding usable results.\n",
      "\n",
      "I have watched a series of tutorials and the output looks very promising. I\n",
      "think I just might be missing something because despite all the creative\n",
      "inputs you guys have incorporated such as palettes, tailored lasso prompts\n",
      "etc I continue to struggle getting good results.\n",
      "\n",
      "My workflow typically starts with sketching freehand and from the tutorials\n",
      "this seems to be the designed workflow but wanted to know if it's maybe my\n",
      "sketch style that's derailing the process?\n",
      "\n",
      "In any case, I saw that with some memberships you note onboarding so\n",
      "thought I would check in to see if any guidance was possible.\n",
      "\n",
      "Thank you,\n",
      "DA\n",
      "\n",
      "  type_of_q: \n",
      "  closed: False\n",
      "  massive_html: False\n",
      "  ALL MESSAGES: []\n",
      ")\n"
     ]
    }
   ],
   "source": [
    "from NormData import NormData\n",
    "\n",
    "# Need to figure out a way to determine where the message is from i.e. gmail, slack, crisp\n",
    "data = NormData(\"1\", sender, subject, \"gmail\", data)\n",
    "print(data)"
   ]
  },
  {
   "cell_type": "markdown",
   "id": "1bdd6ae9",
   "metadata": {},
   "source": [
    "## Labeling The Data using LLM\n"
   ]
  },
  {
   "cell_type": "code",
   "execution_count": 117,
   "id": "4fbeabd6",
   "metadata": {},
   "outputs": [
    {
     "name": "stdout",
     "output_type": "stream",
     "text": [
      "NormData(\n",
      "  id: 1\n",
      "  sender: David Alvarez <dalvarez@optimistinc.com>\n",
      "  subject: Onboarding\n",
      "  origin: gmail\n",
      "  body: Hi Vizcom team,\n",
      "\n",
      "First off, congrats on your software. I think you guys have something\n",
      "special here...!\n",
      "\n",
      "I am reaching out because I have been trying to incorporate the software\n",
      "into our workflow but I am having trouble shepherding usable results.\n",
      "\n",
      "I have watched a series of tutorials and the output looks very promising. I\n",
      "think I just might be missing something because despite all the creative\n",
      "inputs you guys have incorporated such as palettes, tailored lasso prompts\n",
      "etc I continue to struggle getting good results.\n",
      "\n",
      "My workflow typically starts with sketching freehand and from the tutorials\n",
      "this seems to be the designed workflow but wanted to know if it's maybe my\n",
      "sketch style that's derailing the process?\n",
      "\n",
      "In any case, I saw that with some memberships you note onboarding so\n",
      "thought I would check in to see if any guidance was possible.\n",
      "\n",
      "Thank you,\n",
      "DA\n",
      "\n",
      "  type_of_q: ['How to/Instruction', 'payment plans/subscription', 'Probably Needs Human Intervention']\n",
      "  closed: False\n",
      "  massive_html: False\n",
      "  ALL MESSAGES: []\n",
      ")\n"
     ]
    }
   ],
   "source": [
    "user_input = str(data)\n",
    "\n",
    "# more labels needed?\n",
    "labeler_messages = [\n",
    "    {\n",
    "        \"role\": \"system\",\n",
    "        \"content\": \"You are to only label what type of question, a secondary, and tertiary label that may be of relevance, nothing else. \"\n",
    "        \"Available Labels = ['payment plans/subscription', 'technical support/bug', 'How to/Instruction', 'Probably Needs Human Intervention']\"\n",
    "        \"In this format: 'option1,option2,option3' \",\n",
    "    },\n",
    "    {\"role\": \"user\", \"content\": user_input},\n",
    "]\n",
    "\n",
    "completion = client.chat.completions.create(\n",
    "    model=\"gpt-4o-mini\", messages=labeler_messages\n",
    ")\n",
    "\n",
    "# multiple labels\n",
    "label = str(completion.choices[0].message.content).split(\",\")\n",
    "# for x in label.split(\",\"):\n",
    "#     print(x)\n",
    "data.type_of_q = label\n",
    "print(data)"
   ]
  },
  {
   "cell_type": "markdown",
   "id": "9bad77b3",
   "metadata": {},
   "source": [
    "## No Context Response + BS Confidence Score?\n"
   ]
  },
  {
   "cell_type": "code",
   "execution_count": 68,
   "id": "09bb485e",
   "metadata": {},
   "outputs": [],
   "source": [
    "import json"
   ]
  },
  {
   "cell_type": "code",
   "execution_count": 76,
   "id": "bb7806f8",
   "metadata": {},
   "outputs": [
    {
     "name": "stdout",
     "output_type": "stream",
     "text": [
      "{'confidence': 0.85,\n",
      " 'response': 'Hello David,\\n'\n",
      "             '\\n'\n",
      "             'Thank you for reaching out and for your kind words about our '\n",
      "             'software! We appreciate your enthusiasm and are here to help you '\n",
      "             'incorporate it into your workflow successfully.\\n'\n",
      "             '\\n'\n",
      "             'It sounds like you’re on the right path by sketching freehand, '\n",
      "             'as shown in our tutorials. However, if you’re consistently '\n",
      "             'struggling to achieve usable results, it might be beneficial for '\n",
      "             'us to offer personalized guidance. Sometimes, adjustments in '\n",
      "             'sketching techniques or software settings can make a significant '\n",
      "             'difference.\\n'\n",
      "             '\\n'\n",
      "             'We would be happy to assist you further with onboarding '\n",
      "             'guidance. Please let us know your availability for a session, '\n",
      "             \"and we'll arrange a time to walk through your process together.\\n\"\n",
      "             '\\n'\n",
      "             'Thank you,\\n'\n",
      "             'Vizcom Team'}\n"
     ]
    }
   ],
   "source": [
    "user_input = str(data)\n",
    "context = None\n",
    "\n",
    "support_bot = [\n",
    "    {\n",
    "        \"role\": \"system\",\n",
    "        \"content\": f\"Answer questions with based only off of given context: {context}. Do so politely and professionally with a consistent formatting, \"\n",
    "        \"Hello [sender]\\n[body]\\nThank You,\\nVizcom Team\"\n",
    "        f\"here is the question type for better reference {data.type_of_q}. Also provide a confidence score based on how accurate you feel your answer is\"\n",
    "        \"Only use the context given and conversation, nothing else. Return low confidence scores if not enough context is given\"\n",
    "        \"Return a json containing the response and confidence score. Make sure the score is reasonable. Do nothing else.\"\n",
    "        \"Here is an example json: '{response: 'text', confidence: float/1.0}' \",\n",
    "    },\n",
    "    {\"role\": \"user\", \"content\": user_input},\n",
    "]\n",
    "\n",
    "completion = client.chat.completions.create(model=\"gpt-4o-mini\", messages=support_bot)\n",
    "response = str(completion.choices[0].message.content)\n",
    "\n",
    "pprint(json.loads(response))"
   ]
  },
  {
   "cell_type": "code",
   "execution_count": 128,
   "id": "910f8cb1",
   "metadata": {},
   "outputs": [
    {
     "name": "stdout",
     "output_type": "stream",
     "text": [
      "{ [ \"page 1\": \"Getting started with Render mode\", \"content\": { \"description\": \"In this tutorial, you will learn how to go from sketch to render in just a few seconds with a simple sketch and a text description.\", \"steps\": [ { \"step\": 1, \"title\": \"Create a new file\", \"instructions\": [ \"Choose which layout you want to start your project with.\", \"If starting in the drawing studio, you can instantly begin sketching on the canvas.\", \"If you already have a sketch, choose the import option to explore on the infinite canvas.\" ] }, { \"step\": 2, \"title\": \"Set up the canvas\", \"instructions\": [ \"Create the canvas and start sketching, or upload a previous sketch.\", \"Learn more about how to import your sketches in the documentation.\", \"Learn how to draw inside Vizcom in the documentation.\" ] }, { \"step\": 3, \"title\": \"Enter a text prompt\", \"instructions\": [ \"Open the right-toolbar dropdown (Create tab) and ensure you’re in Render mode.\", \"Render mode is required for any line drawing or sketch you plan to render with a prompt.\" ] }, { \"step\": 4, \"title\": \"Select a Palette\", \"instructions\": [ \"Under Style, choose a Palette to define the overall aesthetic of the generated rendering.\" ] }, { \"step\": 5, \"title\": \"Adjust Drawing Influence\", \"instructions\": [ \"Use the Drawing Influence slider to control how much the original sketch affects the render.\" ] }, { \"step\": 6, \"title\": \"Generate the rendering\", \"instructions\": [ \"Click the Generate button and wait a few seconds.\", \"A full-size preview will appear, with a selector tab.\" ] }, { \"step\": 7, \"title\": \"Save or regenerate\", \"instructions\": [ \"Select your favorite render and click “Add” to save it as a layer, or click “Regenerate” to try again.\", \"Unsaved results will remain in the History tab, where you can restore them later.\", \"Close the preview by clicking the “X” icon—Layers and Drawing tools will reactivate.\" ] }, { \"step\": 8, \"title\": \"Export your results\", \"instructions\": [ \"Click the export icon in the top-right corner.\", \"Export what’s displayed on the canvas as a PNG.\" ], \"note\": \"Rendering is iterative—hide previous layers on the canvas if you want to keep generating from your original sketch.\" }, \"refinement\": { \"title\": \"Refine on a rendering\", \"description\": \"After exporting or adding layers, continue iterating by refining your render in Render mode.\" } ], }, \"page 2\": \"Getting started with Refine mode\", \"content\": { \"description\": \"Enhance the quality and details of a previously created rendering. Refining is iterative—feel free to make multiple passes to increase detail. Refine mode preserves your image’s colors while adding finer detail and variation at low drawing influence levels.\", \"prerequisite\": \"Have a base rendering created in Render mode\", \"steps\": [ { \"step\": 1, \"title\": \"Select Refine mode\", \"instructions\": [ \"Open the Create tab and choose Refine mode, which is designed for polishing existing renderings.\", \"You can keep your original prompt or tweak it to push the image in a new direction.\" ] }, { \"step\": 2, \"title\": \"Generate your first refinement\", \"instructions\": [ \"Click Generate to produce a version with more realistic detail.\" ] }, { \"step\": 3, \"title\": \"Iterate\", \"instructions\": [ \"Continue hitting Generate on top of the previous result until you’re satisfied.\" ] }, { \"step\": 4, \"title\": \"Use drawing tools\", \"instructions\": [ \"Apply brushes or selections directly on your render to guide the refinement.\", \"This lets you make rough edits that the AI will refine into cohesive visuals.\" ] }, { \"step\": 5, \"title\": \"Change Style\", \"instructions\": [ \"Choose a different Style for your refinement pass to explore alternate aesthetics.\", \"For example, 'Auto Exterior' will emphasize clean, futuristic surfaces rather than organic wrinkles.\" ] }, { \"step\": 6, \"title\": \"Inpainting\", \"instructions\": [ \"Mask or paint over specific areas to refine just those regions.\", \"Refine mode will use the current pixels on the canvas to drive localized enhancements.\" ] } ], \"title\": \"Importing sketches\", \"description\": \"Vizcom lets you bring in existing sketches (JPG/PNG) from your device or other apps, or import directly onto the infinite Workbench canvas.\", \"ways\": [ { \"way\": 1, \"title\": \"Upload from Studio\", \"instructions\": [ \"Open or create a new file in the Vizcom app.\", \"Click the “Upload Image” option instead of choosing a base canvas—this ensures the canvas matches your image size.\" ] }, { \"way\": 2, \"title\": \"Drag & Drop\", \"instructions\": [ \"Drag and drop one or more JPG/PNG images directly onto the canvas at any time.\" ] }, { \"way\": 3, \"title\": \"Insert menu\", \"instructions\": [ \"Click the Insert icon in the toolbar and select “Import Image.”\" ] }, { \"way\": 4, \"title\": \"Copy & Paste\", \"instructions\": [ \"Copy images from other applications and paste into Vizcom using Ctrl+C/Ctrl+V (Cmd+C/Cmd+V on macOS).\" ] }, { \"way\": 5, \"title\": \"Workbench import\", \"instructions\": [ \"On the infinite Workbench canvas, drop sketches to import them directly into your workspace.\" ] } ], }, \"page 3\": \"Drawing in Vizcom\", \"content\": { \"intro\": \"To better improve the control of the renderings, you can draw inside the application and see your results come to life. This allows you to make changes on the fly and have a collaborative experience with Vizcom AI.\", \"tools\": [ { \"name\": \"Brush\", \"shortcut\": \"B\", \"description\": \"Starts as a line-drawing tool. You can change its settings via the top toolbar or by right-clicking on the canvas.\", \"modifiers\": [ { \"action\": \"Hold Shift\", \"effect\": \"Constrain lines to horizontal, vertical, or 45° diagonal\" } ], \"subtools\": [ { \"name\": \"Paint bucket\", \"description\": \"Fills in line work with the selected color; found under the Brush tool.\" } ] }, { \"name\": \"Eraser\", \"shortcut\": \"E\", \"description\": \"Functions like the Brush but removes pixels instead of adding them.\" }, { \"name\": \"Box\", \"shortcut\": \"I\", \"description\": \"Draws rectangular shapes.\" }, { \"name\": \"Ellipse\", \"shortcut\": \"O\", \"description\": \"Draws elliptical shapes.\" }, { \"name\": \"Line\", \"shortcut\": \"L\", \"description\": \"Draws straight lines.\" }, { \"name\": \"Move\", \"shortcut\": \"M\", \"description\": \"Scale, adjust, and rotate the selected layer. Right-click on canvas to pick which layer to transform.\" }, { \"name\": \"Skew\", \"shortcut\": \"T\", \"description\": \"Skews layers to adjust proportions.\" }, { \"name\": \"Symmetry\", \"shortcut\": null, \"description\": \"Mirrors strokes across a central axis for perfectly balanced designs.\" }, { \"name\": \"Selection\", \"shortcut\": \"G\", \"options\": [ \"Lasso\", \"Brush-based\", \"Bezier\", \"Automatic\" ], \"description\": \"Choose from multiple selection modes to isolate parts of your canvas.\" } ], }, \"page 4\": \"Editing specific areas - Selection tools\", \"content\": { \"intro\": \"When you’re developing a product, in the design process you will eventually reach a place where you have to fixate most of the design and start working on some specific details. This is exactly what Inpainting [G] is suitable for.\", \"howToUse\": \"How to use Selection tools\", \"steps\": [ { \"step\": \"Step 1\", \"instruction\": \"Have a rendering or any image on your canvas.\" }, { \"step\": \"Step 2\", \"instruction\": \"Find the Selection tools at the top toolbar or hit [G] on the keyboard.\\nSelect whichever selection method you want to use.\", \"tools\": [ \"Lasso selection\", \"Brush selection\", \"Bezier selection\", \"Auto selection\" ] }, { \"step\": \"Step 3\", \"instruction\": \"Make the selection on the canvas\" }, { \"step\": \"Step 4\", \"instruction\": \"Write a prompt specifically for the selected area!\", \"substeps\": [ \"Set the mode either to Render a new part, or Refine on the existing one\", \"Describe with the prompt only the selected area\" ] }, { \"step\": \"Step 5\", \"instruction\": \"Set up the Style and Influence\", \"details\": [ \"For making accurate and photorealistic changes , the Vizcom General is the recommended style to use the selection tools with.\", \"Keep the influence high if you want to re-render the selected area with closer to the current design or keep it low to give it more dependency on your prompt.\" ] }, { \"step\": \"Step 6\", \"instruction\": \"Hit Generate!\", \"details\": [ \"Keep generating and experiment with different settings until you satisfied with the results!\" ] } ], }, \"page 5\": \"Workbench - infinite canvas view\", \"content\": { \"description\": \"Workbench is a collaborative, infinite whiteboard experience where you can work in real-time with your team members. Use Workbench to create multiple drawings at once, present to your team, and annotate design decisions. This is a unique space to create alongside others and make sure important design details are not lost during the process.\", \"subsections\": [ { \"title\": \"Navigating the Canvas\", \"items\": [ \"Move Around: Press the space bar and drag.\", \"Zoom In/Out: Use pinch gestures on trackpads/touch devices, hold Ctrl and scroll, or use the zoom controls in the lower right corner.\" ] }, { \"title\": \"Image Interaction\", \"items\": [ \"Click Image Options: Edit, download HD copy, or begin creation.\", \"Three Dots Menu: Arrange or delete images.\" ] }, { \"title\": \"Creating and Refining Images\", \"items\": [ \"Add Prompt Box: Click 'Create' to add a prompt box linked to an image.\", \"Select Mode: Choose between Render or Refine.\", \"Set Options: Select render style, drawing influence, and type the prompt.\", \"Generate Images: Click 'Generate' to create images. Multiple clicks generate multiple images.\", \"Explore Variations: Add multiple prompt boxes for different styles or prompts.\", \"Duplicate/Delete: Use the three dots on the create panel to manage prompt boxes.\" ] }, { \"title\": \"Managing Images on the Canvas\", \"items\": [ \"Move Images: Click and drag.\", \"Scale Images: Adjust by dragging the bounding box.\", \"Insert Other Images: Click 'Insert' at the top to place a placeholder. Drag the icon to specify location.\" ] }, { \"title\": \"Linking and Sketching\", \"items\": [ \"Insert Prompt Box: Link to an image by clicking the plus button and dragging a line.\", \"Double Click to Edit: Enter Brush Studio for advanced functions.\", \"Return to Workbench: Click the Workbench icon.\" ] }, { \"title\": \"Annotation and Collaboration\", \"items\": [ \"Text Tool: Annotate projects for labels and collaboration.\", \"Team Collaboration: Work on projects simultaneously with team members. Follow their viewpoint by clicking initials in the top right.\" ] } ], }, \"page 6\": \"File Sharing\", \"content\": { \"description\": \"Share and collaborate on files with others by quickly copying the file link. Feel secure with specific access and permissions settings.\", \"subsections\": [ { \"title\": \"Share files\", \"items\": [ \"Share files with others by sharing a link.\" ] }, { \"title\": \"Share a link\", \"items\": [ \"Each file has a unique URL. Copy this link and send it to collaborators.\" ] }, { \"title\": \"Copy link\", \"items\": [ \"Click Copy link in the share modal to add the link to your clipboard.\" ] }, { \"title\": \"Link from workspace\", \"items\": [ \"You can also link directly to a file from within the workspace by clicking the … menu on a file and navigating to Copy link.\" ] } ], \"note\": \"👋 Note: If you are editing a sketch block in 2D Studio and click Share, the link will take people directly to 2D Studio. If you are creating in Workbench and you click Share, the link will take people to Workbench.\", \"access\": { \"title\": \"Set file access\", \"description\": \"Files have access levels. Access determines who can access the file:\", \"levels\": [ \"Anyone with link: Anyone, even those outside of your workspace, will be able to access this file. A person’s role type in your workspace determines what level of permissions they have per file. Anyone who accesses the file from within your workspace will adopt the role permissions they have in the workspace. Anyone who accesses the file from outside of your workspace will have view-only access.\" ], \"scenarios\": [ { \"title\": \"Scenario 1\", \"description\": \"John is an editor in your workspace. You copy a file link with ‘anyone with link’ access settings. John uses this link to access your file. Because John is an editor in your workspace, he can edit your file.\" }, { \"title\": \"Scenario 2\", \"description\": \"Sarah is not in your workspace and has never used Vizcom before. You send her a link to your file with access set to ‘anyone with a link’. Sarah can only view your file. She cannot make any edits. If you would like Sarah to make edits, you can invite her to your workspace and set her role to ‘editor’.\" } ] }, }, \"page 7\": \"History\", \"content\": { \"description\": \"In the history you can find and restore all the renderings you ever created in the particular drawing file.\", \"subsections\": [ { \"title\": \"Where to find the History\", \"items\": [ \"At the bottom of the right toolbar, above the \\\"help\\\" icon.\" ] }, { \"title\": \"Rendering list\", \"items\": [ \"You can find the renderings in reversed chronological order (latest on the top) with the correct date and time of creation.\" ] }, { \"title\": \"Restore renderings\", \"items\": [ \"You can restore any previously unsaved renderings by:\", \"adding it to canvas\", \"exporting it right away\" ] }, { \"title\": \"Restore settings\", \"items\": [ \"You can also see the specifications and settings that you used for a rendering.\", \"By clicking on Apply Settings - will restore any setting and mask that you used for that particular rendering, so you don't have to remember and recreate once again\" ] } ], }, \"page 8\": \"Creative Interface\", \"content\": { \"description\": \"There are 2 main creative interfaces in Vizcom. One is the more focused drawing view(Brush studio), the other is the high level, infinite canvas view (Workbench)\", { \"title\": \"Studio interface\", \"description\": \"There are 3 options to customise the interface according to your taste and workflow needs. You can access the different Brush Studio layout options under the Home panel, clicking on the Vizcom logo.\", \"layouts\": [ { \"name\": \"Default\", \"description\": \"suitable if you have an uploaded image and the workflow is focused on heavy layer usage and image generation.\" }, { \"name\": \"Classic\", \"description\": \"this option allows more space for sketching but the Create and Layers panel aren't visible at the same time\" }, { \"name\": \"Stacked\", \"description\": \"With this option you can have the Create and Layers panel below each other\" } ] }, }, \"page 9\": \"Keyboard Shortcuts\", \"content\": { \"description\": [ \"Keyboard shortcuts allow you to perform common actions quickly and efficiently. Whether you're navigating through menus, editing text, or managing windows, these shortcuts can save you valuable time and effort as you navigate through Vizcom.\", \"To access shortcuts within the product you can also go to the Help menu > Keyboard shortcuts\", \"Navigating in the application can be a muscle memory exercise if you're experienced in other drawing apps. Most of the keyboard shortcuts and navigation mechanics are similar to industry standard softwares.\" ], \"categories\": [ { \"name\": \"Brush Studio\", \"shortcuts\": [ { \"action\": \"Brush\", \"keys\": [\"B\"] }, { \"action\": \"Eraser\", \"keys\": [\"E\"] }, { \"action\": \"Transform\", \"keys\": [\"M\"] }, { \"action\": \"Line tool\", \"keys\": [\"L\"] }, { \"action\": \"Ellipse tool\", \"keys\": [\"O\"] }, { \"action\": \"Box tool\", \"keys\": [\"I\"] }, { \"action\": \"Color picker\", \"keys\": [\"ALT\"] }, { \"action\": \"New layer\", \"keys\": [\"N\"] }, { \"action\": \"Decrease or increase brush size\", \"keys\": [\"[\", \"]\"] }, { \"action\": \"Flip canvas\", \"keys\": [\"F\"] }, { \"action\": \"Reset view\", \"keys\": [\"ESC\"] }, { \"action\": \"Show all/hide all layers\", \"keys\": [\"ESC\"] }, { \"action\": \"Deselect lasso selection\", \"keys\": [\"⌘\", \"D\"] }, { \"action\": \"Invert lasso selection\", \"keys\": [\"⌘\", \"I\"] } ] } ] }, \"page 10\": \"Prompts\", \"content\": [ { \"title\": \"How to write prompts\", \"sections\": [ { \"subtitle\": \"What even is a Prompt?\", \"content\": \"A prompt is a phrase, sentence, or string of words and phrases that describes what the image should look like. The words will be analyzed by the AI and will guide the process toward the image(s) you describe. These can include commas and weights to adjust the relative importance of each element.\" }, { \"subtitle\": \"Example Prompt\", \"content\": \"“(hyperrealistic:1.5), silver, modern, electric supercar, Car design concept, (depth of field:1.5), blurred background (dark studio scene:1.8), glowing light blue taillight, monochrome scene, glossy, reflective surfaces, colorful particles flying around, DSLR ”\" }, { \"subtitle\": \"Tip\", \"content\": \"worth to include a fitting brand name for your design, in order to pair a significant design language to your creation.\" }, { \"subtitle\": \"Keep it simple!\", \"content\": \"We optimized the model to make the best out of your sketch, without a long and complicated prompt! So you don’t have to write a poem for a spectacular outcome.\\n\\nNotice, how this render has similar quality compared the upper one, but with a simpler prompt:\\n\\n“Silver concept car, dark studio”\" }, { \"subtitle\": \"Ethical prompting\", \"content\": \"\" }, { \"subtitle\": \"Examples\", \"content\": \"Your sketch can be anything!\\nTake advantage of prompting and explore your shapes in different ways\" } ] }, ] \"page 11\": \"Best Practices\", \"sections\": [ { \"subtitle\": \"Control your visuals\", \"content\": \"The general visuals are determined by the render styles, but you still have a lot of room to play with via prompting, when it comes to controlling the main visuals of your rendering.\" }, { \"subtitle\": \"Main areas worth to control\", \"content\": [ \"Color / material\", \"The object itself\", \"View\", \"Setting / background / scene\", \"Brand DNA\" ] }, { \"subtitle\": \"Example Prompt\", \"content\": \"\\\"Silver aluminum teapot, from the side, on a wooden table, studio background, designed by Braun\\\"\" }, { \"subtitle\": \"Order of importance\", \"content\": \"When you're constructing your prompt, keep in mind that the first word will be the most, and the last word will be the least influential, so keep in mind this order of importance. The first word is actually so strong that it can take over most of the visuals.\" }, { \"subtitle\": \"Use commas\", \"content\": \"To help Vizcom understand your intentions better, separate each visually separate property in your prompt by comma \\\",\\\".\\n\\nTemplate example: (color/material object), (view), (setting/background), (Brand DNA), (other properties)\\n\\nExample prompt: \\\"Premium headphone design concept, designed by Bang and Olufsen, made out of brown leather and aluminum, floating in air, dark studio\\\"\" }, { \"subtitle\": \"Use prompt weights\", \"sections\": [ { \"subtitle\": \"Formatting Weights\", \"content\": \"Increase Emphasis: Add a + or number between 1.1 and 2 to emphasize a word or phrase.\\n\\nDecrease Emphasis: Add a - or number between 0 and 0.9 to de-emphasize.\\n\\nDefault Weight: 1 (Neutral emphasis)\" }, { \"subtitle\": \"Increasing Emphasis\", \"content\": \"To emphasize a design element, add a + or a number between 1.1 and 2 at the end of a word or phrase.\\n\\nUsage: The higher the number or more + symbols, the stronger the emphasis on the design feature.\\n\\nExample: \\\"ergonomic chair, detailed texture, (with adjustable arms:1.5)\\\"\" }, { \"subtitle\": \"Reducing Emphasis\", \"content\": \"To de-emphasize a design feature, add a - or a number between 0 and 0.9 at the end.\\n\\nExample: \\\"modern lamp, (minimalist design)-\\\"\" }, { \"subtitle\": \"Recognized Syntax\", \"content\": \"Single Design Elements: sleek faucet+\\n\\nElements with Parentheses:\\n\\nsleek faucet (with spray feature)+\\n\\nmodern lamp (minimalist design)-\\n\\nMultiple Symbols for Stronger Effect:\\n\\nergonomic chair (with lumbar support)+++\\n\\nNesting for Cumulative Effect:\\n\\noffice desk (with (integrated cable management)1.2)1.1\" }, { \"subtitle\": \"Weighting with Numbers\", \"content\": \"Positive Weights:\\n\\n+ equals 1.1; ++ equals 1.1²; +++ equals 1.1³\\n\\nNegative Weights:\\n\\n- equals 0.9; -- equals 0.9²; --- equals 0.9³\" }, { \"subtitle\": \"Guidelines for Use in Design\", \"content\": \"Effective Range: Weights are most effective between 0.5 and 1.5.\\n\\nCaution: Excessive weighting may detract from the intended design aesthetics.\" }, { \"subtitle\": \"What is Drawing influence?\", \"content\": \"Drawing influence allows for you to decide how much you want your original artwork to influence the generated result. This is a good way to explore the relationship between your prompt, reference image and original sketch.\" }, { \"subtitle\": \"In Render mode\", \"content\": \"In this mode, you control, how much of the sketch lines will be followed by the generated rendering. It’s recommended to use high drawing influence for exact control over the results.\", \"recommendation\": \"80-100%\" }, { \"subtitle\": \"In Refine\", \"content\": \"In this mode, your lines, design, and proportion will remain the same. Marginal changes are going to happen if you start decreasing the Drawing influence level.\" } ] }, { \"subtitle\": \"Start abstract!\", \"content\": \"Sometimes it can be hard to make Vizcom understand what you want to create. In this case you can start building from the bottom up, by using abstract prompts like \\\"aluminum object\\\" - and building the other features on top of an abstract shape.\", \"notes\": \"You can find all previously used prompts and settings on the Generation History\", } ], \"page 12\": \"Best Practices\", \"content\": [ { \"title\": \"Tips when uploading a sketch\" }, { \"subtitle\": \"Clean sketch\", \"content\": \"Which of the 2 sketches do you think would be easier for you to render by hand? Vizcom AI needs a clean drawing to produce clean results.\" }, { \"content\": \"Make sure to upload one sketch at a time. If multiple sketches exist on a page Vizcom will get confused about which drawing to prioritize.\" }, { \"content\": \"Try to make sure your drawings are uniform in color, no backgrounds, and have clean readable linework.\" }, { \"title\": \"Bigger sketch - more details\", \"content\": \"Scale your sketch up with the transform tool, to get more details in your rendering, also to put the emphasis on the product and not on the added background\" }, { \"title\": \"Bad Examples\", \"list\": [ \"❌Too many drawings on one page\", \"❌Messy background\", \"❌Too small sketches\", \"❌Results\" ] }, { \"title\": \"Good Examples\", \"list\": [ \"✅Single Sketch\", \"✅No background\", \"✅Contrast Lines\", \"✅Minimal Linework\", \"✅Results\" ] }, { \"title\": \"Combining aesthetics\", \"content\": \"Combine your unique shape with existing brand's DNA\" }, { \"content\": \"This way you can cover the stylistic range from abstract shape to more conservative concept vehicles and explore the interesting in-between results.\", \"instructions\": [ { \"title\": \"Step 1\", \"content\": \"Create a volume on your input sketch\" }, { \"title\": \"Step 2\", \"content\": \"use that volume to increasingly merge the certain brand's aesthetics together as you lower the drawing influence slider.\" }, { \"title\": \"Step 3\", \"content\": \"Push the bundaries and find the lowest drawing influence number, where you get an interesting combination of your shape, interpreted as a concept car.\" }, { \"title\": \"Step 4\", \"content\": \"Analyze the results of your advanced shape exploration\" } ], }, { \"title\": \"Remove Background\", \"content\": [ \"Remove unwanted backgrounds from your sketches and designs with a single click.\", \"Access this feature from the menu in the upper right of the Create tab to instantly isolate your subject.\" ] }, { \"title\": \"Enhance\", \"content\": [ \"Vizcom Enhance brings out the materials and details in your renderings, improving overall quality by refining textures and surfaces while maintaining your original design intent.\", \"Simply click the menu on the upper right of the Create tab and select 'Enhance' from the dropdown to instantly bring out materials and details in your renderings.\", ] } ], \"page 13\": \"Reference Images\", \"content\": { \"title\": \"Using inspiration images with Vizcom\", \"introduction\": [ \"Vizcom allows you to use reference images as style guides to influence the look and feel of your illustrations. This feature is particularly useful for artists and designers who want to maintain a consistent style across different projects.\", \"This guide will walk you through the process of using a reference image as a style guide in Vizcom.\" ], \"steps\": [ { \"step\": 1, \"title\": \"Create a New Project\", \"instruction\": \"Start a new project: Once logged in, click on the “Create New Project” button on the dashboard.\" }, { \"step\": 2, \"title\": \"Upload Your Base Image\", \"instruction\": \"Click on the “Upload” button or drag and drop the image you want to use as your base. By uploading an image, Vizcom will describe it, so you will already have a prompt to work with.\" }, { \"step\": 3, \"title\": \"Upload Your Reference Image\", \"instruction\": \"Leave it in the “Style” format. Click on the “Upload Reference Image” button within the panel and select the image you want to use as a style guide. Only the selected image will influence the renderings.\" }, { \"step\": 4, \"title\": \"Adjust the Palette\", \"instruction\": \"Set a palette and adjust the strength and influence sliders to fine-tune how much the reference image should influence your base image.\" }, { \"step\": 5, \"title\": \"Apply the Style\", \"instruction\": \"Once satisfied with the settings, click “Generate.” Vizcom will process and apply the style from the reference image to your base image. Tip: use the selection tool (G) on separate areas or select the entire canvas (Ctrl+A/Cmd+A) for precise application.\" } ], \"materialTransfer\": { \"description\": \"For transferring reference materials or scenes in a more accurate and photorealistic way.\", \"steps\": [ { \"step\": 1, \"instruction\": \"Have a rendering on the canvas (or any volume image that has depth).\" }, { \"step\": 2, \"instruction\": \"Upload a reference image and check “Material transfer.”\" }, { \"step\": 3, \"instruction\": \"Give a general context with the prompt.\" }, { \"step\": 4, \"instruction\": \"Select an area where you want to apply the reference. (Or leave unselected to apply to the entire canvas.)\" }, { \"step\": 5, \"instruction\": \"Set the image strength (how strongly it influences) and drawing influence (close to 100% to preserve shape).\" }, { \"step\": 6, \"instruction\": \"The material is applied—keep generating and tweaking until satisfied. Materials, patches, or product images can all work.\" } ] }, \"conclusion\": \"Using the reference image feature in Vizcom is a powerful way to maintain a consistent style across your projects. By following these steps, you can effectively enhance your illustrations and designs.\", \"notes\": [ \"Watch our YouTube video for a step-by-step demo.\", \"Be mindful of other creators’ intellectual property when uploading reference images. Uploaded images will not train or influence Vizcom’s models; they remain private to your file.\" ] }, \"page 14\": \"Environmental Context Visualization\", \"content\": { \"overview\": \"Environment Reference is a powerful Vizcom feature that seamlessly integrates your designs into contextual environments. Rather than presenting concepts in isolation, this tool allows you to visualize how your creations will appear in their intended settings with realistic lighting, scale, and perspective.\", \"howToUse\": [ { \"step\": 1, \"instruction\": \"Access the Reference panel – click the Reference button in the Create panel.\" }, { \"step\": 2, \"instruction\": \"Select “Environment” mode from the Reference panel dropdown.\" }, { \"step\": 3, \"instruction\": \"Upload your environment image – add an image of the setting where you want to place your design.\" }, { \"step\": 4, \"instruction\": \"Choose scenes with consistent lighting direction.\" }, { \"step\": 5, \"instruction\": \"Select environments that match the intended scale of your design.\" }, { \"step\": 6, \"instruction\": \"Click “Generate” to place your design in the selected environment.\" } ], \"tipsForBestResults\": [ \"Choose environment images with consistent lighting direction.\", \"Consider scale – select environments that match the intended size of your design.\", \"For product designs, environments with natural shadows and reflections yield more realistic results.\" ], }, \"page 15\": \"Virtual Garment Try-On\", \"content\": { \"overview\": \"Vizcom's Try-On feature allows you to quickly visualize garments or materials on models by referencing existing designs. Follow these steps to achieve the best results\", \"howToUse\": [ { \"step\": 1, \"instruction\": \"Upload or select your base image - This should be a clear photo of a model wearing clothing you want to modify\" }, { \"step\": 2, \"instruction\": \"Access the Reference panel - Click the Reference button in the create panel\" }, { \"step\": 3, \"instruction\": \"Select \\\"Try On\\\" mode - From the Reference panel dropdown, choose \\\"Try On\\\"\" }, { \"step\": 4, \"instruction\": \"Upload your reference garment - Add an image of the specific garment you want to apply\" }, { \"step\": 5, \"instruction\": \"Use front-facing, clearly visible garments for best results\" }, { \"step\": 6, \"instruction\": \"Images with minimal background distraction work best\" }, { \"step\": 7, \"instruction\": \"Generate - Click the Generate button to apply the reference garment to your selection\" } ], \"troubleshooting\": { \"errorTitle\": \"Couldn't generate your image\", \"errorMessage\": \"There was an unexpected error. Please try again in a few moments.\", \"cause\": \"This typically means Vizcom doesn't know where to apply your changes.\", \"solution\": [ \"Use the selection tool (located in the toolbar) to highlight the specific area where you want to apply the garment or modification\", \"Make sure your selection area is clearly defined - the blue highlight should cover the entire region you want to modify\", \"After making your selection, then click \\\"Generate\\\"\" ] }, \"bestPractices\": [ \"Use a clear reference image: Select a high-quality, front-facing image of the garment you want to apply (like the blue jacket shown)\", \"Select the appropriate area: Before generating, use the selection tool to highlight the upper body area of your model where the garment should be applied\", \"Consider the model's original clothing: The system works best when replacing similar types of garments (in this case, replacing an outer layer with another outer layer)\", \"Remember: Vizcom may need to know exactly where to apply changes. Without a selection, Vizcom will guess which part of the image to focus on, leading to this error.\" ], }, \"page 16\": \"3D Layers\", \"content\": { \"importing3DModels\": { \"title\": \"Importing 3D models\", \"description\": \"Upload 3D models in Vizcom and sketch over them to quickly validate your ideas with a high-quality render.\\n\\n👉 Visit our website to follow along: https://www.vizcom.ai/\\n\\nSometimes in the design process, when you already have a base 3D model, it is nice sketch over that volume and create renderings, precisely on top of the package.\\n\\nIn Vizcom, with the 3D layers feature, you have the option to upload your 3D models, set the preferred view, sketch over your model and create coherent renderings.\\n\\nThis is all possible with the help of the 2 mediums on top of each other (3D Model + sketch).\\n\\nThis way you can quickly visualize ideas in 3D.\", \"instructions\": [ \"After creating a new file, Click on the Insert button.\", \"Here you can upload a 3D model. (There are already uploaded template models in the library.)\" ], \"supportedFormats\": [ \".glb\", \".gltf\", \".obj\", \".fbx\", \".stl\" ], } \"using3DLayers\": { \"title\": \"How to use 3D layers\", \"steps\": [ \"Insert a 3D model on the canvas and set the desire position\", \"Use the brush tool to sketch other details on the model (as a new layer on top)\", \"Write a prompt and Upload a reference image\", \"Use the selection tool (G) and create the rendering\", \"Select the entire canvas to apply the mooivie scene, by pressing Ctrl+A or CMD +A after clicking on the selection tool(G)\", \"Click on Generate to render your 3D model!\" ] } }, \"page 17\": \"2D to 3D feature\", \"content\": { \"description\": \"Vizcom's new 2D Studio allows users to convert any 2D image into a 3D model. This feature is accessible to all Vizcom users.\", \"howToConvert2DImageTo3DModel\": { \"title\": \"How to Convert 2D Image to 3D Model\", \"steps\": [ { \"step\": \"Step 1\", \"content\": \"Have a rendering on the canvas, and find the Generate 3D icon.\\nChoose between the Standard, or the Detailed 3D options\\nAlternatively you find the 3D generation in the layers panel as well\" }, { \"step\": \"Step 2\", \"content\": \"Vizcom will create a new layer, separate the core concept image from the background, and generate the 3D model.\" }, { \"step\": \"Step 3\", \"title\": \"Viewing and Adjusting the Model\", \"content\": \"Click the new layer after processing.\\nUse bounding box controls to scale the model.\\nUse orbit controls to inspect the model from different angles.\\nSet the focal length with the number slider\" }, { \"step\": \"Step 4\", \"content\": \"Setting up different views of the 3D model\\nDuplicate the 3D layer and set up another view on the canvas to make a rendering scene\" }, { \"step\": \"Step 5\", \"content\": \"Use the scene to make a realistic rendering.\\nClick on the \\\"describe\\\" function at the prompt\\nGenerate renderings in the desired style and drawing influence.\" } ] }, \"exporting3DModel\": { \"title\": \"Exporting the 3D Model\", \"description\": \"You can also export the generated 3D models.\\nThere are high density, triangulated mesh models, and exportable in many formats:\", \"formats\": [ \".glb - this will carry over textures\", \".obj\", \".stl - for 3D printing\", \".usdz - for displaying in AR on iPads\" ] } }, \"page 18\": \"Types of 3D Generation\", \"content\": { \"description\": \"Vizcom enables you to generate 3d models of your renderings at a variety of qualities. For more information about how to use the 2D to 3D feature, refer here.\", \"methods\": [ { \"name\": \"Standard\", \"description\": \"Standard 3D generation is optimized for speed. The output is lower resolution than the detailed options, but allows you to quickly visualize your sketches in 3D and see your ideas from different perspective.\" }, { \"name\": \"Detailed Smooth\", \"description\": \"As the name implies, generated meshes from Detailed Smooth are smoother and cleaner, with an emphasis on clean topology over capturing every detail of the sketch. This mode excels when you are looking for a mesh to directly edit in your chosen 3D program\" }, { \"name\": \"Detailed Sharp\", \"description\": \"This mode emphasizes the intricate details of the input sketch in both the 3D mesh and in texturing. This model is ideal for seeing how a detail\" } ], \"multiview\": { \"overview\": \"Use multiple sketch layers of the same object from different perspectives to have more control over the final 3D output\", \"generation\": \"Select 2-5 visible layers and the \\\"Generate Multiview 3D\\\" option will be enabled in the toolbar. The generated model will be added to your layers.\", \"groupGeneration\": \"You can also generate multiview 3D from a layer group. Just make sure the group is visible and contains 2-5 visible layers since hidden layers won’t be considered.\" }, \"tips\": [ \"For more precision, imagine your object as cube and provide sketches which accurately and consistently describe all 6 sides of the cube viewed from different angles.\", \"For more variation, you can use sketches which have variations on the same theme. The 3D generation tool will choose which features to keep. You can generate again to get a different combinations of the design features you have inputted.\", \"You can also use 3D models as part of your input to 3D generation. This can be used when you want to keep one view of an object the same while varying another part\" ] }, \"page 19\": \"Palettes Overview\", \"content\": { \"title\": \"Palettes\", \"subtitle\": \"Render Styles now called Palettes\", \"description\": \"You can create renderings with different Palettes, according to your preference.\", \"howToSwitch\": { \"steps\": [ \"In the Brush Studio drawing app, go to the \\\"Create\\\" tab (right side of the screen)\", \"You can see the \\\"Palette\\\" dropdown menu under Style, where you can choose the preferred one from the list.\", \"If you click on \\\"Generate\\\", the renderings will be created according to the selected Palette\" ] }, \"offeredPalettes\": { \"intro\": \"There are different categories of Palettes. We are offering a list of publicly available palettes, that we will keep adding more and more, according to the general industry needs. There is also an option for enterprise clients to custom train models. This service will be self-serviced and available very soon for any user.\", \"categories\": [ { \"name\": \"Essentials\", \"description\": \"Essential palettes are the most universally useful styles that you can utilise as base aesthetics that can be relevant in any design discipline or topic\", \"items\": [ { \"name\": \"Vizcom General\", \"features\": [ \"Stunning, photorealistic imagery that puts the focus on your product.\", \"Model version: V2 (New!)\", \"Model version: V1\", \"This palette allows the most creative freedom when it comes to prompting. You are free to describe materials, colors, objects, scenes, backgrounds. As a base aesthetic, it is set to provide a simplistic studio rendering of a product, unless you specify different conditions.\", \"This palette is suitable for inpainting and modifying on different parts of the rendering in a photorealistic manner.\", \"If you add a reference image with this palette, the translation will be the closest to the original image compared to other styles. It will be a realistic interpretation of the inspiration image.\" ] }, { \"name\": \"Surface Sculpt\", \"description\": \"Clean dynamic surfaces.\" }, { \"name\": \"Volume Render\", \"description\": \"Three-dimensional look with a emphasis on depth and form.\\nThis palette can be handy when it comes to form development, without any distracting colors and elements on the rendering. It's like a base ambient occlusion type of visual, that you can build onto.\" } ] }, { \"name\": \"Stylized\", \"description\": \"Stylized palettes have a very specific color palette and aesthetic to them. If you are looking for a striking visual in a coherent style, these can be good choices to make renderings with. This also means, that these palettes will not follow color prompts accurately, the level of control is lower when it comes to exactly describing a desired rendering, compared to more general styles.\", \"items\": [ { \"name\": \"CyberCel\", \"description\": \"Vibrant flat colors with strong outlines and high contrast.\" }, { \"name\": \"Technicolor 6\", \"description\": \"Futuristic, concept Art inspired style with emphasis on the vibe and environment of the whole composition.\\nModel version: V2 (New!)\\nModel version: V1\" }, { \"name\": \"Pastel Render\", \"description\": \"Gentle and soothing color palette, inspired by the soft hues of pastel colors.\" } ] }, { \"name\": \"Automotive\", \"description\": \"There are very specific rendering styles and aesthetics when it comes to automotive design. We wanted to create palettes that can capture the fluid, artistic, automotive industry specific design sketches. These palettes are also more up to date with design trends, compared to the general ones.\", \"items\": [ { \"name\": \"Automotive Exterior\", \"description\": \"Vivid car design renders with emphasis on shadows and reflections. Selecting the sketch with inpainting can result in beautiful, lightly shaded sketches.\\nModel version: V2 (New!)\\nModel version: V1\" }, { \"name\": \"Automotive Interior\", \"description\": \"Detailed renderings emphasising texture, lighting and space in automotive interiors.\" } ] } ] }, \"paletteInfluence\": { \"description\": \"Palette influence enables to have control over the strength of the rendered image. In other words, you can control, how much the selected style should influence your original sketch.\", \"howToSet\": \"You can set the palette influence at the Create panel - Style section - Palette option - percentage\", \"examples\": [ \"(Palette: Auto Exterior V2)\", \"(Palette :TechnocolorV2)\" ] }, }, \"page 20\": \"Make your own Palette\", \"content\": { \"title\": \"Making your own Palette\", \"description\": \"Custom Palettes are a way to create personal and private Ai model that understands your style. You can use these palettes to visualize your sketches in Vizcom with greater consistency while reflecting your personal or your brands aesthetic. This guide will walk you through how to curate images for your palette, how to create it within Vizcom, how to thoroughly test it, and how to publish a Palette to your workspace.\", \"paletteCuration\": [ { \"title\": \"Defining your Palette\", \"content\": \"In order to create a successful Palette, you need to teach Vizcom your aesthetic by uploading images that reflect a particular style. These could be images that reflect your sketching style, brand language, or visual style.\" }, { \"title\": \"Number of Images\", \"content\": \"Use 4 to 30 images in your Palette to help Vizcom learn your style effectively.\" }, { \"title\": \"Image Consistency\", \"content\": \"Think of the images you upload as the ones you’d like to generate. They should share similar visual qualities, lighting, and material to those you’d like to generate.\" }, { \"title\": \"Multiple Small Palettes vs. One Large Palette\", \"content\": \"For best results, organize images into multiple smaller Palettes rather than one large one. Mixing images with varying fidelities, such as sketches and photos, in the same Palette can hinder the generation of a cohesive aesthetic. By separating images by fidelity, Vizcom can better interpret and generate images with the desired style.\" }, { \"title\": \"Uploading Multiple Views for Versatile Rendering\", \"content\": \"Uploading various angles of a product allows Vizcom to understand the object in three dimensions, enabling accurate rendering from any angle. A Palette with only one view will focus on generating images from that perspective and may struggle with alternate views.\" }, { \"title\": \"Simple Backgrounds\", \"content\": \"For ideation, use images with simple white backgrounds to maintain clarity and focus on the product. This setup helps Vizcom produce cleaner, more adaptable renderings.\" }, { \"title\": \"Un-Cropped High Resolution Images\", \"content\": \"Ensure that images are high-resolution and free from pixelation. Avoid cropping in too closely on the subject—having the entire subject in the frame improves the Palette’s effectiveness.\" }, { \"title\": \"Avoid Inspiration Images\", \"content\": \"We recommend using inspiration images as reference material rather than including them directly in Palettes. Inspiration images tend not to generate effective results in this context and are better suited as supplementary reference material within the tool.\" } ], \"creatingPaletteInVizcom\": { \"title\": \"Creating a Palette in Vizcom\", \"content\": \"Creating a Palette in Vizcom is straightforward. Start by creating a new workbench file, then click the plus button in the toolbar to open the insert panel. Drag or click to add a Palette block to the canvas, then click “Upload” within the Palette block to upload 4–30 curated images that reflect a consistent style. You can also drag images directly from the canvas into the Palette block.\\n\\nIf any images are added by mistake, simply click to delete them, or continue adding more as needed. Double-click the Palette title to rename it for easy identification. Once your images are set and the Palette is named, click \\\"Train\\\" to start the process. Training typically takes around 5 minutes, though this may vary depending on the number of images in the Palette.\" }, \"testingYourPalette\": { \"title\": \"Testing Your Palette\", \"intro\": \"After training your Palette, it’s time to test its effectiveness. For Pro users, a green chip will replace the “Train” button upon completion, while Enterprise users will see a purple “Publish” chip.\\n\\nThe purpose of testing is to evaluate how well Vizcom interprets the aesthetic of your curated images. If the initial results are not as expected, try duplicating the Palette and adjusting its images to refine the style.\", \"workbench\": { \"title\": \"Testing in Workbench\", \"steps\": [ \"Upload Your Sketch: Click the plus icon in the top toolbar to open the insert panel and upload your sketch. You can also drag the image directly onto the canvas.\", \"Connect a Prompt Block: Attach a prompt block by dragging the plus button from the right-hand side of the selected image. Within the prompt block, you can:\\n • Toggle between “Render” and “Refine” modes.\\n • Select your Palette by opening the Palette selector and scrolling to “Local Palettes” at the bottom.\\n • Adjust the drawing influence, which controls how closely Vizcom follows the sketch or incorporates creative elements from your Palette.\", \"Compose Your Prompt: When you select a Palette, Vizcom will populate the prompt block with tags derived from your images. Use these tags as a guide to create a descriptive prompt that reflects the aesthetic (e.g., \\\"wooden toy car design, painted, black wheels, white background\\\").\", \"Generate and Evaluate Results: Test the Palette by generating images at different drawing influence levels:\\n • 100% Influence: Closely follows your sketch’s lines.\\n • Lower Influence Levels (e.g., 80%, 60%, 40%): Adds creative details from the Palette.\\n\\nAdjusting the influence allows you to gauge how well Vizcom interprets your sketch and Palette style.\" ] }, \"studio2D\": { \"title\": \"Testing in 2D Studio\", \"steps\": [ \"Enter 2D Studio: Double-click an uploaded sketch to open it in 2D Studio, or create a new drawing by adding a draw block from the insert panel and double-clicking it to enter 2D Studio.\", \"Select Your Palette: In the create panel on the right, open the Palette selector and scroll down to “Local Palettes” to choose the Palette you’ve created.\", \"Compose Your Prompt: Vizcom will display tags from your Palette images, which you can use to craft a prompt that maintains the Palette’s aesthetic style (e.g., \\\"wooden toy car design, painted, black wheels, white background\\\").\", \"Generate and Adjust Drawing Influence: Set the drawing influence:\\n • 100% Influence: Follows your sketch closely.\\n • Lower Influence Levels (e.g., 80%, 60%, 40%): Adds creative elements from the Palette images.\\n\\nTesting at varied influence levels allows you to see how well Vizcom interprets the aesthetic from both the sketch and the Palette.\" ] } }, \"publishingYourPalette\": { \"title\": \"Publishing Your Palette\", \"content\": \"Once you're satisfied with how your Palette renders sketches, you can publish it to your personal library, making it accessible across all files in your workspace. Note: Publishing is available for Enterprise plans only.\", \"steps\": [ \"Publish Your Palette: In Workbench, click the “Publish” button next to the Palette title. Publishing makes the Palette available in any file, and teammates can access it by publishing it from their own libraries.\", \"Customize Before Publishing: On the publish screen, you can rename the Palette or upload a custom thumbnail for better discoverability within the Palette selector. Toggle tags on or off to control which tags are visible. Disable any tags that didn’t align with the intended style during testing.\", \"Finalize and Access: Click “Publish.” Your Palette is now accessible from the Palette selector in any file, allowing seamless use across projects.\" ] }, \"faq\": [ { \"question\": \"What should I do if my Palette fails to train?\", \"answer\": \"Palette training may fail due to issues like poor internet connection, image anomalies, or other factors. Try clicking the “Retrain” button. If the problem persists, contact support for further assistance.\" }, { \"question\": \"How can I improve my Palette if I’m not satisfied with the results?\", \"answer\": \"If your Palette isn’t producing the expected results, try duplicating it and adjusting the images by adding or removing certain ones. Curating an effective image set is key to achieving the desired aesthetic in Vizcom. See the curation tips above for guidance on refining your Palette.\" } ] }, \"page 21\": \"Assets Overview\", \"content\": { \"title\": \"Asset Library\", \"description\": \"The Vizcom Asset Library is a centralized collection of reusable visual assets—colors and images—that can be easily added, managed, and reused across your file & projects. It helps maintain consistency, streamline workflows, and support team collaboration by keeping commonly used assets accessible in one place.\", \"access\": { \"overview\": \"To access your assets, simply click on the \\\"Asset\\\" tab located in the left sidebar or in the toolbar within Workbench. From there, you can browse, add, and manage your colors and images.\", \"detailsLink\": \"For a detailed guide on accessing and using each type of asset, read more here.\" }, \"collaboration\": [ { \"scope\": \"This file\", \"description\": \"Assets only available in the file you're working in (Available on all plans)\" }, { \"scope\": \"My library\", \"description\": \"Access assets across your files in a single workspace (Available on Pro & Enterprise plans only)\" }, { \"scope\": \"Workspace\", \"description\": \"Access and share assets with teammates in your workspace (Available on Enterprise plans only)\" } ], \"howToAccess\": [ { \"instruction\": \"You will now see an \\\"Assets\\\" tab in the left sidebar in 2D Studio\" }, { \"instruction\": \"Click on the \\\"shapes\\\" icon in the toolbar to open up the asset library in Workbench\" } ] }, \"page 22\": \"Asset Types\", \"content\": [ { \"name\": \"Color\", \"description\": \"You can add and manage colors in Vizcom. However, we currently do not support uploading a csv file with HEX codes.\", \"entryPoints\": [ \"Left sidebar\", \"toolbar\", \"reference panel\" ], \"add\": [ \"Click on the \\\"+\\\" button on the right\", \"Select a color\", \"(optional) Name the asset\", \"Save\" ], \"edit\": [ \"Click on the asset\", \"Then click on the three-dot menu\", \"Click edit\", \"You can edit the color and the name\", \"Save\" ], \"delete\": [ \"Click on the asset\", \"Then click on the three-dot menu\", \"Click delete\" ] }, { \"name\": \"Material\", \"description\": \"Materials are currently simply images in Vizcom. You cannot upload a 3D model of a material of texture.\", \"add\": [ \"Click on the \\\"+\\\" button on the right\", \"Upload or paste image\", \"(optional) Name the asset\", \"Save\" ], \"edit\": [ \"Click on the asset\", \"Then click on the three-dot menu\", \"Click edit\", \"You can edit the color and the name\" ], \"delete\": [ \"Click on the asset\", \"Then click on the three-dot menu\", \"Click delete\" ] } ], \"page 23\": \"Annual & Monthly Billing\", \"content\": { \"overview\": \"Workspaces on the Professional plan can be on a monthly or annual billing interval. Opting for annual billing provides a 20% discount on the yearly price.\", \"pricing\": { \"Professional Monthly\": \"$49/month\", \"Professional Annually\": \"$40 per seat/month (billed annually)\" }, \"flows\": [ { \"title\": \"Switch from Starter Monthly to Professional Annually\", \"steps\": [ \"Navigate to the Settings page in the sidebar of your file dashboard\", \"On the Plans & Billing page of the Settings sidebar, scroll down to the Plans section\", \"On the Professional plan, set the billing period toggle to 'Annually' and click 'Upgrade'\", \"When upgrading from the Starter Monthly plan to the Professional Annually plan, you can choose to add seats as well\" ], \"details\": \"Upon confirmation, an immediate invoice is generated for the upcoming year. The cost is based on the number of seats selected at the discounted annual rate of $40/month per seat.\" }, { \"title\": \"Switch from Professional Monthly to Professional Annually\", \"steps\": [ \"Navigate to the Settings page in the sidebar of your file dashboard\", \"On the Plans & Billing page of the Settings sidebar, scroll down to the Plans section\", \"On the Professional plan, set the billing period toggle to 'Annually' and click 'Change to Annualy'\", \"You can choose to change the seats during this process if you wish\" ], \"details\": [ \"Upon confirmation, an immediate invoice is generated for the upcoming year. The cost is based on the number of seats selected at the discounted annual rate of $40 per seat per month.\", \"The number of seats is updated immediately. You can either add more seats for editors or downgrade them to viewers if you have removed seats.\", \"ℹ️ A prorated amount for the unused seats for the remainder of the current billing period is deducted from your invoice.\" ] }, { \"title\": \"Switch from Professional Annually to Professional Monthly\", \"steps\": [ \"Navigate to the Settings page in the sidebar of your file dashboard\", \"On the Plans & Billing page of the Settings sidebar, scroll down to the Plans section\", \"On the Professional plan, set the billing period toggle to 'Monthly' and click 'Change to Monthly'\", \"You can choose to change the seats during this process if you wish\" ], \"details\": [ \"Admin can switch a workspace from Professional Annually to Professional Monthly at any time, but the change will take effect at the end of the current billing period.\", \"This change will take effect at the end of the current billing period. A schedule has been created to switch from yearly to monthly payments.\" ] }, { \"title\": \"Cancel a switch from Professional Annually to Professional Monthly\", \"steps\": [ \"Navigate to the Settings page in the sidebar of your file dashboard\", \"On the Plans & Billing page of the Settings sidebar, scroll down to the Plans section\", \"On the Professional plan, set the billing period toggle to 'Annually' and click 'Revert to annually'\", \"You can choose to change the seats during this process if you wish\" ], \"details\": [ \"The cancellation takes immediate effect, maintaining the monthly billing cycle. No adjustments or additional charges are applied at this time.\", \"There is no change in features; the organization continues to benefit from the annual billing discount.\" ] } ] }, \"page 24\": \"Managing Seats\", \"content\": { \"overview\": \"Seats can be managed at any point during your billing period. Paid roles (Admin and Editor) each require a seat; Viewers are free and do not require a seat. Only Admins can adjust seat counts.\", \"addingSeats\": { \"title\": \"Adding Seats (Professional Plan)\", \"steps\": [ \"Navigate to the Settings page in the sidebar of your file dashboard\", \"On the Plans & Billing page of the Settings sidebar, click on “Manage Seats”\", \"Add seats to your plan using the + button\", \"When upgrading from the Starter plan to the Professional plan, you can choose to add seats to your plan\" ], \"details\": [ \"Upon confirmation, an immediate invoice is generated for the upcoming billing period. The cost is based on the number of seats selected.\", \"This change takes effect immediately. A prorated amount is calculated based on the remaining time in the current billing period to cover the cost of the new seats.\", \"Admins can invite additional Editors or Admins immediately after the seats are added.\" ] }, \"removingSeats\": { \"title\": \"Removing Seats (Professional Plan)\", \"steps\": [ \"Navigate to the Settings page in the sidebar of your file dashboard\", \"On the Plans & Billing page of the Settings sidebar, click on “Manage Seats”\", \"Remove seats using the – button (minimum of 1 seat required)\" ], \"details\": [ \"This change becomes effective at the end of the current billing period; your workspace retains full seat access until then.\", \"If there are more than two Admins/Editors (invited or active), excess users will be downgraded to Viewers, starting with invited users and then the most recently joined.\" ] } }, \"page 25\": \"Switching your workspace’s plan\", \"content\": { \"overview\": \"You can upgrade or downgrade your workspace’s plan at any point. Each workspace on your Vizcom account is billed separately—changing one does not affect others. Only Admins can manage plan changes.\", \"upgrade\": { \"title\": \"Upgrading your workspace plan\", \"steps\": [ \"Navigate to the Settings page in the sidebar of your file dashboard\", \"On the Plans & Billing page of the Settings sidebar, scroll down to the Plans section\", \"Click \\\"Upgrade\\\" on the Professional plan or \\\"Contact sales\\\" on the Enterprise plan\", \"When upgrading from the Starter plan to the Professional plan, you can choose to add seats to your plan\" ], \"details\": [ \"Upon confirmation, an immediate invoice is generated for the upcoming billing period. The cost is based on the number of seats selected\", \"Upgrading to Pro provides access to additional features\" ] }, \"downgrade\": { \"title\": \"Downgrading your workspace plan\", \"steps\": [ \"Navigate to the Settings page in the sidebar of your file dashboard\", \"On the Plans & Billing page of the Settings sidebar, scroll down to the Plans section\", \"Click \\\"Downgrade\\\" on the Starter plan (or \\\"Contact sales\\\" if you’re on Enterprise)\", \"When downgrading from Professional to Starter, manage your seat count (Starter allows only 2 paid seats total)\" ], \"details\": [ \"If there are more than two Editors/Admins, the extra users will be downgraded to Viewers at the end of the current billing period (starting with invited users, then most recently joined)\", \"The workspace will lose access to Professional features at the end of the current billing period\" ], \"effect\": \"Upon confirmation, the downgrade is scheduled and takes effect at the end of the current billing period\" }, \"cancelDowngrade\": { \"title\": \"Canceling a downgrade from Professional to Starter\", \"steps\": [ \"Navigate to the Settings page in the sidebar of your file dashboard\", \"On the Plans & Billing page of the Settings sidebar, click on “Manage Plan”\", \"Click “Renew Plan”\" ], \"details\": [ \"The previously scheduled switch from Professional to Starter is immediately canceled\", \"The workspace retains access to Professional features\" ] } }, \"page 26\": \"Managing Members/Seats\", \"content\": { \"section\": \"Manage members\", \"title\": \"Managing members in your workspace\", \"overview\": \"Vizcom is even more powerful when you invite people to join you in your workspace.\", \"invitingMembers\": { \"note\": \"Only Admins of a workspace can invite members.\", \"steps\": [ \"Ensure you are an Admin in the target workspace.\", \"Click any “Invite members” button in the app or go to Settings > Members.\", \"Type the email addresses of the individuals you want to invite.\", \"Set each invitee’s role (Admin, Editor, or Viewer).\", \"Send invites.\", \"Track pending invites under Settings > Members.\" ] }, \"memberRoles\": { \"description\": \"Roles and permissions vary by plan.\", \"plans\": { \"Starter\": { \"paidSeats\": [\"Admin\", \"Editor\"], \"freeSeats\": [\"Viewer\"] }, \"Professional\": { \"paidSeats\": [\"Admin\", \"Editor\"], \"freeSeats\": [\"Viewer\"] }, \"Enterprise\": { \"paidSeats\": [\"Admin\", \"Editor\"], \"freeSeats\": [\"Viewer\"] } }, \"roles\": { \"Viewer\": { \"cost\": \"free\", \"permissions\": [ \"View files shared in the workspace\", \"Cannot invite members\", \"Cannot create or edit files\" ] }, \"Editor\": { \"cost\": \"paid\", \"permissions\": [ \"Create and edit files\", \"Cannot invite members\", \"Cannot manage workspace settings or billing\", \"Cannot create teams\" ], \"upgrade\": \"Contact an Admin to be promoted\" }, \"Admin\": { \"cost\": \"paid\", \"permissions\": [ \"All Editor privileges\", \"Invite and remove members\", \"Manage workspace settings, billing, security, and privacy\", \"Create and manage Teams\" ], \"note\": \"Each workspace must have at least one Admin\" } } } }, \"page 27\": \"Managing Teams/Collaborators\", \"content\": { \"section\": \"Teams\", \"title\": \"Teams\", \"description\": \"Create a dedicated area for collaboration with specific workspace members. Teams help organize files by project, topic, or group.\", \"subscriptionLimits\": { \"Starter\": \"1 all-workspace team\", \"Professional\": \"1 all-workspace team\", \"Organization\": \"Unlimited teams\" }, \"allWorkspaceTeam\": { \"title\": \"All-Workspace team\", \"description\": \"Automatically created in every workspace. Everyone is a member and cannot be removed. Ideal for files everyone needs.\" }, \"management\": { \"whoCanManage\": \"Only workspace Admins can create teams, rename them, invite members, and manage visibility settings.\" }, \"visibility\": [ { \"type\": \"Public\", \"visibility\": \"Everyone in the workspace can see, join, and view all files and folders.\", \"permissions\": \"Members inherit their workspace role (Admin/Editor/Viewer) within the team.\", \"useCase\": \"Promotes cross-functional collaboration and consistency.\" }, { \"type\": \"Private\", \"visibility\": \"Only Admins and invited members can see the team.\", \"permissions\": \"Invited members inherit their workspace role within the team.\", \"useCase\": \"Keeps sensitive or pre-release work hidden from others.\" } ], \"membership\": { \"adminActions\": \"Admins invite or remove users under Settings > Teams > Team Settings.\", \"memberActions\": \"Members can join/leave public teams via Settings > Teams > … > Join or Leave. Private teams require an Admin invite.\" } }, \"page 28\": \"Workspaces and Setup\", \"content\": { \"title\": \"Workspaces\", \"overview\": \"Your Vizcom account allows you to set up Workspaces where you can collaborate with the rest of your team in editing files, depending on each workspace member’s role (see below). You can invite people to your Workspace as either Admin (limits apply on the Starter plan, priced per Admin on paid plans), Editors (limits apply on the Starter plan, priced per Editor on paid plans), and Viewers (unlimited, free on all plans). With a single Vizcom account, you have the ability to create and join other Workspaces.\", \"roles\": [ { \"role\": \"Admin\", \"notes\": \"Limits apply on Starter plan; priced per Admin on paid plans\" }, { \"role\": \"Editor\", \"notes\": \"Limits apply on Starter plan; priced per Editor on paid plans\" }, { \"role\": \"Viewer\", \"notes\": \"Unlimited, free on all plans\" } ], \"structure\": \"Folders and teams help you keep your work organized while using a singular workspace, but creating separate Workspaces elevates this experience. Workspaces operate entirely independently from one another, while still residing within a unified account. Each Workspace has the capability to host distinct members and content. Members belonging to one Workspace won’t be able to see the work or the members of other Workspaces, ensuring a clear separation. Each Workspace can be subscribed to a different payment plan.\", \"using\": \"Workspaces are completely separate from one another. This means each Workspace can have its own teams with different members, subscribed to different pricing plans. Only those members can share content with the members of that Workspace.\", \"configure\": [ \"As an admin:\", \"• Navigate to Settings > General to add a workspace logo, edit your workspace name, and delete your workspace.\", \"• Navigate to Settings > Members to invite members and manage roles\", \"• Navigate to Settings > Teams to create teams for your workspace (limits apply based on subscription plan)\" ], \"subscriptionPlans\": \"When you get started with Vizcom for free, your workspace will be on the free Starter plan. You can upgrade your workspace anytime under Settings > Plans & Billing to access additional features.\", \"multipleWorkspaces\": \"Your Workspace acts as a container, ensuring your content remains distinct within a single account. By using multiple Workspaces, you can add different members to different workspaces, giving specific groups access to specific content. Invitations to join separate Workspaces may be extended to align with distinct teams or entirely separate company entities.\", \"switching\": \"To switch between different Workspaces, simply click the workspace dropdown menu toggle located in the top left corner of your Workspace.\", \"delete\": \"Deleting your workspace is a big deal, so we're here to help. Please contact our support team to carry out this action. If you're looking to manage or cancel your subscription, you can do so at Settings > Plans & Billing.\" }, \"page 27\": \"Workspace setup\", \"content\": { \"section\": \"Access & Activity Logs\", \"title\": \"Access & Activity Logs\", \"description\": \"As an Admin of an Enterprise you can check who/when accessed the application under Access logs. You can also check what were some of the high level user activities, such as creating and editing files in the workspace.\", \"find\": { \"where\": \"On the Main File Dashboard page, go under Settings\", \"option\": \"Select the \\\"Data\\\" option\" }, \"notes\": [ \"You can switch the list between access and activity logs\", \"You can also search for specific email addresses\" ] }, \"doc FAQs\": { \"1\": { \"question\": \"Do I own what I upload and create in Vizcom?\", \"answer\": \"All users retain the copyright over the content uploaded, designed, and generated using Vizcom. Whether you're a free user or paid user, your uploaded content and designs are always yours. You can use these creations however you would like—in commercial projects, paid freelance work, full-time employment, education, etc.\" }, \"2\": { \"question\": \"Do I own what I upload and create in Vizcom?\", \"answer\": \"All users retain the copyright over the content uploaded, designed, and generated using Vizcom. Whether you're a free user or paid user, your uploaded content and designs are always yours. You can use these creations however you would like—in commercial projects, paid freelance work, full-time employment, education, etc.\" }, \"3\": { \"question\": \"Can Vizcom see what I upload and generate?\", \"answer\": \"Paid Users: No, we cannot see or access your uploads or generated images. Users on the Professional, Organization, and Enterprise plans benefit from full design ownership and content privacy. We ensure the security of uploaded and generated content using robust encryption and strict access controls, adhering to SOC 2 compliance standards. This includes those trialing a paid plan.\\n\\nFree Users: Yes, your uploads and generated images are visible to Vizcom, as Vizcom retains the right to use your user content and designs for operating, promoting, and improving Vizcom.\" }, \"4\": { \"question\": \"Does Vizcom use my uploads and generated images?\", \"answer\": \"Free Users: If you are on the Vizcom Starter plan, you retain full ownership of your uploads and generated designs. However, by using the service you grant Vizcom a non-exclusive, royalty-free, fully paid, worldwide license to use your user content and designs to operate, promote, and improve Vizcom; this license terminates if you delete your content or your account.\\n\\nPaid Users: If you subscribe to Vizcom Professional, Organization, or Enterprise, you retain full ownership of both your uploads and generated designs. You grant Vizcom only a limited, revocable, non-exclusive license strictly to deliver those paid services. This limited license does not grant Vizcom any broader rights to use or distribute your content.\\n\\nThis policy applies equally to users trialing a paid plan.\" }, \"5\": { \"question\": \"What happens if I downgrade?\", \"answer\": \"If you don’t want to continue with your current subscription, you can always downgrade to a different plan.\\n\\nYes, the Starter plan is our free version of Vizcom. It offers all of the amazing features of Vizcom you need to get started, but you are limited to one Editor role, one Admin role, and one Team.\\n\\nThe Starter plan is limited to only two paid seats, either Admin or Editor. If you have more user roles than this prior to downgrading, we will downgrade the excess role types to Viewers. The Admin that requests the downgrade will remain an Admin. Admins can always change the roles of their Workspace members in their Workspace settings page.\\n\\nThe Starter and Professional plans are limited to one Team. If you downgrade from our Organization plan, all Teams besides your All-Workspace team will be archived. You will have view-only access to the files and folders in these archived teams. You will not be able to create new files in any teams other than the default All-Workspace team. You can move the location of your files from one Team to another at any point, as you see fit.\\n\\nSee our FAQ section for specific questions regarding content ownership and licensing when downgrading.\" }, \"6\": { \"question\": \"What is the benefit of subscribing to a paid plan?\", \"answer\": \"Our paid plans—Vizcom Professional, Organization, and Enterprise—include several advanced features:\\n\\n• Priority render queue: faster wait times when generating or exporting images.\\n• 4K export: access to higher-quality export options.\\n• Batch generation: unlock the ability to generate 4 images at a time instead of just one.\\n• Enhanced collaboration: support for more Editors and Teams (limits vary by plan).\\n• Full design privacy: Vizcom will not use your content to improve the service. Learn more about the differences here.\\n\\nLearn more about our pricing and view a detailed feature comparison here.\" } } ] }\"faqs\": [ { \"question\": \"Can I use Vizcom for free?\", \"answer\": \"Yes of course! Our Starter plan is completely free, no credit card required. You’ll get access to unlimited files, one team, two editors, and unlimited viewers. This is a great plan to explore Vizcom with.\" }, { \"question\": \"What payment methods can I use?\", \"answer\": \"We accept all major credit and debit cards.\" }, { \"question\": \"What are the different roles and their associated access? Which roles do I pay for?\", \"answer\": \"You pay for the number of admins and editors in your Vizcom workspace. Admins have full edit access to workspace settings and files. Editors have edit access to files but cannot manage workspace settings. Viewers have view-only access to the workspace.\" }, { \"question\": \"How does team billing work?\", \"answer\": \"Your first team is always free. On the free plan, you can invite up to one extra editor to begin collaborating right away. To invite additional editors or create more teams, you’ll need to upgrade to one of our paid plans. You will be billed for each new admin and editor you invite.\" }, { \"question\": \"Can I change my subscription from monthly to yearly?\", \"answer\": \"At this time, we do not offer annual payment plans.\" }, { \"question\": \"Do I own the content I produce in Vizcom?\", \"answer\": \"For free users, while we may use generated images to improve our services, we do not claim ownership over your designs, concepts, or original ideas—you retain full IP rights. For paid users, your images and designs remain entirely private and are used only to provide our services.\" }, { \"question\": \"Does Vizcom use my data to train AI models?\", \"answer\": \"Vizcom does not access, analyze, or utilize data from user projects or sketches for AI/ML training—except that free-tier data may be leveraged solely to enhance our services.\" } ]\n"
     ]
    }
   ],
   "source": [
    "import re\n",
    "\n",
    "\n",
    "def load_as_string(path: str) -> str:\n",
    "    with open(path, \"r\", encoding=\"utf-8\") as f:\n",
    "        data = f.read()\n",
    "        return re.sub(r\"\\s+\", \" \", data).strip()\n",
    "\n",
    "\n",
    "ctx1_raw = load_as_string(\"contexts/documentation.txt\")\n",
    "ctx2_raw = load_as_string(\"contexts/faqs.txt\")\n",
    "\n",
    "print(ctx1_raw + ctx2_raw)"
   ]
  },
  {
   "cell_type": "markdown",
   "id": "17c5aa9d",
   "metadata": {},
   "source": [
    "# Responses with Context?\n"
   ]
  },
  {
   "cell_type": "code",
   "execution_count": 129,
   "id": "15a2ca23",
   "metadata": {},
   "outputs": [
    {
     "name": "stdout",
     "output_type": "stream",
     "text": [
      "{'confidence': 1.0,\n",
      " 'response': 'If you downgrade from a paid Professional plan to the free '\n",
      "             'Starter plan mid-billing cycle, any extra editor seats beyond '\n",
      "             'the limit of two paid seats will be demoted to viewers at the '\n",
      "             'end of the current billing period. You will not receive a '\n",
      "             'prorated refund for those unused seats, as the seats will remain '\n",
      "             'active until the end of the billing cycle.',\n",
      " 'thought_process/citation': 'This is based on the information provided in the '\n",
      "                             'context regarding the effects of downgrading '\n",
      "                             'from a Professional plan to a Starter plan.'}\n"
     ]
    }
   ],
   "source": [
    "user_input = \"If I downgrade from a paid Professional plan to the free Starter plan mid-billing cycle, what happens to my extra editor seats—are they immediately deactivated or demoted to viewers, and am I eligible for any prorated refund for those unused seats?\"\n",
    "context = ctx1_raw + ctx2_raw\n",
    "\n",
    "support_bot = [\n",
    "    {\n",
    "        \"role\": \"system\",\n",
    "        \"content\": f\"Answer questions with based only off of given context and nothing else (DO NOT GUESS ANSWERS): {context}. Do so politely and professionally with a consistent formatting, \"\n",
    "        \"Hello [sender]\\n[body]\\nThank You,\\nVizcom Team\"\n",
    "        f\"here is the question type for better reference {data.type_of_q}. Provide a confidence score based on how accurate you feel your answer is, and thought process and citation to context if possible.\"\n",
    "        \"Only use the context given and conversation, nothing else. Return low confidence scores if not enough context is given\"\n",
    "        \"Return a json containing the response and confidence score. Make sure the score is reasonable. Do nothing else.\"\n",
    "        'Here is an example json: \\'{\"response\": \"text\", \"confidence\": float/1.0, \"thought_process/citation\": \"text\"}\\' ',\n",
    "    },\n",
    "    {\"role\": \"user\", \"content\": user_input},\n",
    "]\n",
    "\n",
    "completion = client.chat.completions.create(model=\"gpt-4o-mini\", messages=support_bot)\n",
    "response = str(completion.choices[0].message.content)\n",
    "try:\n",
    "    {pprint(json.loads(response))}\n",
    "except:\n",
    "    {print(response)}"
   ]
  },
  {
   "cell_type": "code",
   "execution_count": null,
   "id": "8165d8e2",
   "metadata": {},
   "outputs": [],
   "source": []
  }
 ],
 "metadata": {
  "kernelspec": {
   "display_name": "Python 3",
   "language": "python",
   "name": "python3"
  },
  "language_info": {
   "codemirror_mode": {
    "name": "ipython",
    "version": 3
   },
   "file_extension": ".py",
   "mimetype": "text/x-python",
   "name": "python",
   "nbconvert_exporter": "python",
   "pygments_lexer": "ipython3",
   "version": "3.11.9"
  }
 },
 "nbformat": 4,
 "nbformat_minor": 5
}
